{
 "cells": [
  {
   "cell_type": "code",
   "execution_count": 1,
   "metadata": {},
   "outputs": [],
   "source": [
    "import pandas as pd\n",
    "import numpy as np\n",
    "import os\n",
    "import joblib\n",
    "import pickle\n",
    "import scipy.sparse as sp"
   ]
  },
  {
   "cell_type": "code",
   "execution_count": 2,
   "metadata": {},
   "outputs": [],
   "source": [
    "feat_path = '/local-scratch/nigam/projects/jlemmon/transfer_learning/experiments/data/merged_features/features_sparse'\n",
    "vocab_path = '/local-scratch/nigam/projects/jlemmon/transfer_learning/experiments/data/merged_features/vocab'\n",
    "analysis_path = '/local-scratch/nigam/projects/jlemmon/transfer_learning/experiments/data/features_by_analysis'\n",
    "cohort_path = '/local-scratch/nigam/projects/jlemmon/transfer_learning/experiments/data/cohort'"
   ]
  },
  {
   "cell_type": "code",
   "execution_count": 13,
   "metadata": {},
   "outputs": [],
   "source": [
    "def read_file(filename, columns=None, **kwargs):\n",
    "    print(filename)\n",
    "    load_extension = os.path.splitext(filename)[-1]\n",
    "    if load_extension == \".parquet\":\n",
    "        return pd.read_parquet(filename, columns=columns,**kwargs)\n",
    "    elif load_extension == \".csv\":\n",
    "        return pd.read_csv(filename, usecols=columns, **kwargs)\n",
    "def slice_sparse_matrix(mat, rows):\n",
    "\tmask = np.zeros(mat.shape[0], dtype=bool)\n",
    "\tmask[rows] = True\n",
    "\tw = np.flatnonzero(mask)\n",
    "\tsliced = mat[w,:]\n",
    "\treturn sliced"
   ]
  },
  {
   "cell_type": "code",
   "execution_count": 4,
   "metadata": {},
   "outputs": [
    {
     "name": "stdout",
     "output_type": "stream",
     "text": [
      "/local-scratch/nigam/projects/jlemmon/transfer_learning/experiments/data/merged_features/features_sparse/features_row_id_map.parquet\n",
      "/local-scratch/nigam/projects/jlemmon/transfer_learning/experiments/data/merged_features/vocab/vocab.parquet\n"
     ]
    }
   ],
   "source": [
    "feats_id_map = read_file(\n",
    "\t\tos.path.join(\n",
    "\t\t\tfeat_path,\n",
    "\t\t\t\"features_row_id_map.parquet\"\n",
    "\t\t),\n",
    "\t\tengine='pyarrow'\n",
    "\t)\n",
    "vocab = read_file(\n",
    "\t\tos.path.join(\n",
    "\t\t\tvocab_path,\n",
    "\t\t\t\"vocab.parquet\"\n",
    "\t\t),\n",
    "\t\tengine='pyarrow'\n",
    ")"
   ]
  },
  {
   "cell_type": "code",
   "execution_count": 5,
   "metadata": {},
   "outputs": [],
   "source": [
    "features = joblib.load(os.path.join(feat_path,\"features.gz\"))\n",
    "# ped_feats = sp.load_npz('/local-scratch/nigam/projects/jlemmon/transfer_learning/experiments/data/bin_features/pediatric/full.npz')\n",
    "# ad_feats = sp.load_npz('/local-scratch/nigam/projects/jlemmon/transfer_learning/experiments/data/bin_features/adult/full.npz')"
   ]
  },
  {
   "cell_type": "code",
   "execution_count": 6,
   "metadata": {},
   "outputs": [
    {
     "name": "stdout",
     "output_type": "stream",
     "text": [
      "/local-scratch/nigam/projects/jlemmon/transfer_learning/experiments/data/cohort/cohort_split.parquet\n"
     ]
    }
   ],
   "source": [
    "cohort = read_file(\n",
    "\t\tos.path.join(\n",
    "\t\t\tcohort_path,\n",
    "\t\t\t\"cohort_split.parquet\"\n",
    "\t\t),\n",
    "\t\tengine='pyarrow'\n",
    "\t)\n",
    "cohort = cohort.merge(feats_id_map)"
   ]
  },
  {
   "cell_type": "code",
   "execution_count": 7,
   "metadata": {},
   "outputs": [],
   "source": [
    "ped_df = cohort[cohort['age_group'] == '<18']"
   ]
  },
  {
   "cell_type": "code",
   "execution_count": 8,
   "metadata": {},
   "outputs": [],
   "source": [
    "adult_df = cohort[cohort['age_group'] != '<18']"
   ]
  },
  {
   "cell_type": "code",
   "execution_count": 9,
   "metadata": {},
   "outputs": [],
   "source": [
    "ped_rows = list(ped_df['features_row_id'])\n",
    "ad_rows = list(adult_df['features_row_id'])\n",
    "\n",
    "ped_row_map = pd.DataFrame({'row_idx_new':[i for i in range(len(ped_rows))], 'row_idx_og':ped_rows})\n",
    "ad_row_map = pd.DataFrame({'row_idx_new':[i for i in range(len(ad_rows))], 'row_idx_og':ad_rows})"
   ]
  },
  {
   "cell_type": "code",
   "execution_count": 10,
   "metadata": {},
   "outputs": [],
   "source": [
    "ped_row_map.to_csv('/local-scratch/nigam/projects/jlemmon/transfer_learning/experiments/data/bin_features/pediatric/pat_map.csv',index=False)\n",
    "ad_row_map.to_csv('/local-scratch/nigam/projects/jlemmon/transfer_learning/experiments/data/bin_features/adult/pat_map.csv',index=False)"
   ]
  },
  {
   "cell_type": "code",
   "execution_count": 14,
   "metadata": {},
   "outputs": [],
   "source": [
    "ad_list = slice_sparse_matrix(features, ad_rows)\n",
    "ped_list = slice_sparse_matrix(features, ped_rows)"
   ]
  },
  {
   "cell_type": "code",
   "execution_count": 16,
   "metadata": {},
   "outputs": [],
   "source": [
    "sum_ped_list = np.squeeze(np.asarray(ped_list.sum(axis=0)))\n",
    "sum_ad_list = np.squeeze(np.asarray(ad_list.sum(axis=0)))"
   ]
  },
  {
   "cell_type": "code",
   "execution_count": 17,
   "metadata": {},
   "outputs": [
    {
     "name": "stdout",
     "output_type": "stream",
     "text": [
      "[0 0 0 ... 0 0 1]\n"
     ]
    }
   ],
   "source": [
    "print(sum_ped_list)"
   ]
  },
  {
   "cell_type": "code",
   "execution_count": 19,
   "metadata": {},
   "outputs": [],
   "source": [
    "bin_ped_feat_list = [0 if i==0 else 1 for i in sum_ped_list]\n",
    "bin_ad_feat_list = [0 if i==0 else 1 for i in sum_ad_list]"
   ]
  },
  {
   "cell_type": "code",
   "execution_count": 20,
   "metadata": {},
   "outputs": [
    {
     "name": "stdout",
     "output_type": "stream",
     "text": [
      "62955\n",
      "123532\n"
     ]
    }
   ],
   "source": [
    "print(np.sum(bin_ped_feat_list))\n",
    "print(np.sum(bin_ad_feat_list))"
   ]
  },
  {
   "cell_type": "code",
   "execution_count": 21,
   "metadata": {},
   "outputs": [],
   "source": [
    "feat_count_dict = {\n",
    "    'neither': 0,\n",
    "    'both': 0,\n",
    "    'pediatric': 0,\n",
    "    'adult': 0\n",
    "}\n",
    "ped_feat_indices = []\n",
    "ad_feat_indices = []\n",
    "shared_feat_indices = []\n",
    "for i in range(len(bin_ped_feat_list)):\n",
    "    ped = bin_ped_feat_list[i]\n",
    "    ad = bin_ad_feat_list[i]\n",
    "    if ped == 0 and ad == 0:\n",
    "        feat_count_dict['neither'] = feat_count_dict['neither'] + 1\n",
    "    elif ped == 1 and ad == 0:\n",
    "        feat_count_dict['pediatric'] = feat_count_dict['pediatric'] + 1\n",
    "        ped_feat_indices.append(i)\n",
    "    elif ped == 0 and ad == 1:\n",
    "        feat_count_dict['adult'] = feat_count_dict['adult'] + 1\n",
    "        ad_feat_indices.append(i)\n",
    "    elif ped == 1 and ad == 1:\n",
    "        feat_count_dict['both'] = feat_count_dict['both'] + 1\n",
    "        shared_feat_indices.append(i)"
   ]
  },
  {
   "cell_type": "code",
   "execution_count": 22,
   "metadata": {},
   "outputs": [
    {
     "name": "stdout",
     "output_type": "stream",
     "text": [
      "neither:112425\n",
      "both:54413\n",
      "pediatric:8542\n",
      "adult:69119\n"
     ]
    }
   ],
   "source": [
    "for k in feat_count_dict.keys():\n",
    "    print(f'{k}:{feat_count_dict[k]}')"
   ]
  },
  {
   "cell_type": "code",
   "execution_count": 23,
   "metadata": {},
   "outputs": [],
   "source": [
    "pkl_file = open('/local-scratch/nigam/projects/jlemmon/transfer_learning/experiments/data/bin_features/adult/feat_used.txt','wb')\n",
    "pickle.dump(bin_ad_feat_list, pkl_file)\n",
    "pkl_file.close()\n",
    "pkl_file = open('/local-scratch/nigam/projects/jlemmon/transfer_learning/experiments/data/bin_features/pediatric/feat_used.txt','wb')\n",
    "pickle.dump(bin_ped_feat_list, pkl_file)\n",
    "pkl_file.close()"
   ]
  },
  {
   "cell_type": "code",
   "execution_count": 10,
   "metadata": {},
   "outputs": [],
   "source": [
    "pkl_file = open('/local-scratch/nigam/projects/jlemmon/transfer_learning/experiments/data/bin_features/adult/feat_used.txt','rb')\n",
    "bin_ad_feat_list = pickle.load(pkl_file)\n",
    "pkl_file.close()\n",
    "pkl_file = open('/local-scratch/nigam/projects/jlemmon/transfer_learning/experiments/data/bin_features/pediatric/feat_used.txt','rb')\n",
    "bin_ped_feat_list = pickle.load(pkl_file)\n",
    "pkl_file.close()"
   ]
  },
  {
   "cell_type": "code",
   "execution_count": 24,
   "metadata": {},
   "outputs": [],
   "source": [
    "pd.DataFrame({'feat_indices':ad_feat_indices}).to_csv('/local-scratch/nigam/projects/jlemmon/transfer_learning/experiments/data/bin_features/only_adult_feats.csv',index=False)\n",
    "pd.DataFrame({'feat_indices':ped_feat_indices}).to_csv('/local-scratch/nigam/projects/jlemmon/transfer_learning/experiments/data/bin_features/only_pediatric_feats.csv',index=False)\n",
    "pd.DataFrame({'feat_indices':shared_feat_indices}).to_csv('/local-scratch/nigam/projects/jlemmon/transfer_learning/experiments/data/bin_features/shared_feats.csv',index=False)"
   ]
  },
  {
   "cell_type": "code",
   "execution_count": null,
   "metadata": {},
   "outputs": [],
   "source": []
  }
 ],
 "metadata": {
  "kernelspec": {
   "display_name": "conl",
   "language": "python",
   "name": "conl"
  },
  "language_info": {
   "codemirror_mode": {
    "name": "ipython",
    "version": 3
   },
   "file_extension": ".py",
   "mimetype": "text/x-python",
   "name": "python",
   "nbconvert_exporter": "python",
   "pygments_lexer": "ipython3",
   "version": "3.9.10"
  }
 },
 "nbformat": 4,
 "nbformat_minor": 2
}
