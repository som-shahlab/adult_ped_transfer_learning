{
 "cells": [
  {
   "cell_type": "code",
   "execution_count": 13,
   "metadata": {},
   "outputs": [],
   "source": [
    "import pandas as pd\n",
    "import os\n",
    "import joblib"
   ]
  },
  {
   "cell_type": "code",
   "execution_count": 16,
   "metadata": {},
   "outputs": [],
   "source": [
    "feat_path = '/local-scratch/nigam/projects/jlemmon/transfer_learning/experiments/data/merged_features/features_sparse'\n",
    "analysis_path = '/local-scratch/nigam/projects/jlemmon/transfer_learning/experiments/data/features_by_analysis'\n",
    "cohort_path = '/local-scratch/nigam/projects/jlemmon/transfer_learning/experiments/data/cohort'"
   ]
  },
  {
   "cell_type": "code",
   "execution_count": 3,
   "metadata": {},
   "outputs": [],
   "source": [
    "def read_file(filename, columns=None, **kwargs):\n",
    "    print(filename)\n",
    "    load_extension = os.path.splitext(filename)[-1]\n",
    "    if load_extension == \".parquet\":\n",
    "        return pd.read_parquet(filename, columns=columns,**kwargs)\n",
    "    elif load_extension == \".csv\":\n",
    "        return pd.read_csv(filename, usecols=columns, **kwargs)"
   ]
  },
  {
   "cell_type": "code",
   "execution_count": 9,
   "metadata": {},
   "outputs": [
    {
     "name": "stdout",
     "output_type": "stream",
     "text": [
      "/local-scratch/nigam/projects/jlemmon/transfer_learning/experiments/data/merged_features/features_sparse/features_row_id_map.parquet\n"
     ]
    }
   ],
   "source": [
    "feats = read_file(\n",
    "\t\tos.path.join(\n",
    "\t\t\tfeat_path,\n",
    "\t\t\t\"features_row_id_map.parquet\"\n",
    "\t\t),\n",
    "\t\tengine='pyarrow'\n",
    "\t)"
   ]
  },
  {
   "cell_type": "code",
   "execution_count": 18,
   "metadata": {},
   "outputs": [
    {
     "name": "stdout",
     "output_type": "stream",
     "text": [
      "/local-scratch/nigam/projects/jlemmon/transfer_learning/experiments/data/features_by_analysis/age_group/static/features_285.parquet\n"
     ]
    }
   ],
   "source": [
    "age_group = read_file(\n",
    "\t\tos.path.join(\n",
    "\t\t\tanalysis_path,\n",
    "\t\t\t\"age_group/static/features_285.parquet\"\n",
    "\t\t),\n",
    "\t\tengine='pyarrow'\n",
    "\t)"
   ]
  },
  {
   "cell_type": "code",
   "execution_count": 19,
   "metadata": {},
   "outputs": [
    {
     "data": {
      "text/html": [
       "<div>\n",
       "<style scoped>\n",
       "    .dataframe tbody tr th:only-of-type {\n",
       "        vertical-align: middle;\n",
       "    }\n",
       "\n",
       "    .dataframe tbody tr th {\n",
       "        vertical-align: top;\n",
       "    }\n",
       "\n",
       "    .dataframe thead th {\n",
       "        text-align: right;\n",
       "    }\n",
       "</style>\n",
       "<table border=\"1\" class=\"dataframe\">\n",
       "  <thead>\n",
       "    <tr style=\"text-align: right;\">\n",
       "      <th></th>\n",
       "      <th>prediction_id</th>\n",
       "      <th>person_id</th>\n",
       "      <th>index_date</th>\n",
       "      <th>concept_id</th>\n",
       "      <th>analysis_id</th>\n",
       "      <th>time_bin</th>\n",
       "      <th>feature_id</th>\n",
       "      <th>concept_count</th>\n",
       "    </tr>\n",
       "  </thead>\n",
       "  <tbody>\n",
       "    <tr>\n",
       "      <th>0</th>\n",
       "      <td>-2170876333730134375</td>\n",
       "      <td>30630459</td>\n",
       "      <td>2019-07-25 16:15:00</td>\n",
       "      <td>age_group_18</td>\n",
       "      <td>age_group</td>\n",
       "      <td>static</td>\n",
       "      <td>age_group_18_age_group</td>\n",
       "      <td>1</td>\n",
       "    </tr>\n",
       "    <tr>\n",
       "      <th>1</th>\n",
       "      <td>-930060984611237818</td>\n",
       "      <td>30230397</td>\n",
       "      <td>2021-09-14 04:05:00</td>\n",
       "      <td>age_group_18</td>\n",
       "      <td>age_group</td>\n",
       "      <td>static</td>\n",
       "      <td>age_group_18_age_group</td>\n",
       "      <td>1</td>\n",
       "    </tr>\n",
       "    <tr>\n",
       "      <th>2</th>\n",
       "      <td>-5188106954279777439</td>\n",
       "      <td>42133663</td>\n",
       "      <td>2019-09-27 04:22:00</td>\n",
       "      <td>age_group_18</td>\n",
       "      <td>age_group</td>\n",
       "      <td>static</td>\n",
       "      <td>age_group_18_age_group</td>\n",
       "      <td>1</td>\n",
       "    </tr>\n",
       "    <tr>\n",
       "      <th>3</th>\n",
       "      <td>-5943670930084792567</td>\n",
       "      <td>31046784</td>\n",
       "      <td>2019-08-16 10:30:00</td>\n",
       "      <td>age_group_18</td>\n",
       "      <td>age_group</td>\n",
       "      <td>static</td>\n",
       "      <td>age_group_18_age_group</td>\n",
       "      <td>1</td>\n",
       "    </tr>\n",
       "    <tr>\n",
       "      <th>4</th>\n",
       "      <td>-337833218730288408</td>\n",
       "      <td>31044908</td>\n",
       "      <td>2021-03-23 13:34:00</td>\n",
       "      <td>age_group_18</td>\n",
       "      <td>age_group</td>\n",
       "      <td>static</td>\n",
       "      <td>age_group_18_age_group</td>\n",
       "      <td>1</td>\n",
       "    </tr>\n",
       "  </tbody>\n",
       "</table>\n",
       "</div>"
      ],
      "text/plain": [
       "         prediction_id  person_id          index_date    concept_id  \\\n",
       "0 -2170876333730134375   30630459 2019-07-25 16:15:00  age_group_18   \n",
       "1  -930060984611237818   30230397 2021-09-14 04:05:00  age_group_18   \n",
       "2 -5188106954279777439   42133663 2019-09-27 04:22:00  age_group_18   \n",
       "3 -5943670930084792567   31046784 2019-08-16 10:30:00  age_group_18   \n",
       "4  -337833218730288408   31044908 2021-03-23 13:34:00  age_group_18   \n",
       "\n",
       "  analysis_id time_bin              feature_id  concept_count  \n",
       "0   age_group   static  age_group_18_age_group              1  \n",
       "1   age_group   static  age_group_18_age_group              1  \n",
       "2   age_group   static  age_group_18_age_group              1  \n",
       "3   age_group   static  age_group_18_age_group              1  \n",
       "4   age_group   static  age_group_18_age_group              1  "
      ]
     },
     "execution_count": 19,
     "metadata": {},
     "output_type": "execute_result"
    }
   ],
   "source": [
    "age_group.head()"
   ]
  },
  {
   "cell_type": "code",
   "execution_count": 14,
   "metadata": {},
   "outputs": [
    {
     "data": {
      "text/plain": [
       "<292392x44905 sparse matrix of type '<class 'numpy.int64'>'\n",
       "\twith 24759472 stored elements in Compressed Sparse Row format>"
      ]
     },
     "execution_count": 14,
     "metadata": {},
     "output_type": "execute_result"
    }
   ],
   "source": [
    "joblib.load(os.path.join(feat_path,\"features.gz\"))"
   ]
  },
  {
   "cell_type": "code",
   "execution_count": null,
   "metadata": {},
   "outputs": [],
   "source": []
  }
 ],
 "metadata": {
  "kernelspec": {
   "display_name": "conl",
   "language": "python",
   "name": "conl"
  },
  "language_info": {
   "codemirror_mode": {
    "name": "ipython",
    "version": 3
   },
   "file_extension": ".py",
   "mimetype": "text/x-python",
   "name": "python",
   "nbconvert_exporter": "python",
   "pygments_lexer": "ipython3",
   "version": "3.9.10"
  }
 },
 "nbformat": 4,
 "nbformat_minor": 2
}
