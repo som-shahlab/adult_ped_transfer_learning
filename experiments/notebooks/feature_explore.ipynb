{
 "cells": [
  {
   "cell_type": "code",
   "execution_count": 1,
   "metadata": {},
   "outputs": [],
   "source": [
    "import pandas as pd\n",
    "import numpy as np\n",
    "import os\n",
    "import joblib\n",
    "import pickle"
   ]
  },
  {
   "cell_type": "code",
   "execution_count": 2,
   "metadata": {},
   "outputs": [],
   "source": [
    "feat_path = '/local-scratch/nigam/projects/jlemmon/transfer_learning/experiments/data/merged_features/features_sparse'\n",
    "vocab_path = '/local-scratch/nigam/projects/jlemmon/transfer_learning/experiments/data/merged_features/vocab'\n",
    "analysis_path = '/local-scratch/nigam/projects/jlemmon/transfer_learning/experiments/data/features_by_analysis'\n",
    "cohort_path = '/local-scratch/nigam/projects/jlemmon/transfer_learning/experiments/data/cohort'"
   ]
  },
  {
   "cell_type": "code",
   "execution_count": 3,
   "metadata": {},
   "outputs": [],
   "source": [
    "def read_file(filename, columns=None, **kwargs):\n",
    "    print(filename)\n",
    "    load_extension = os.path.splitext(filename)[-1]\n",
    "    if load_extension == \".parquet\":\n",
    "        return pd.read_parquet(filename, columns=columns,**kwargs)\n",
    "    elif load_extension == \".csv\":\n",
    "        return pd.read_csv(filename, usecols=columns, **kwargs)"
   ]
  },
  {
   "cell_type": "code",
   "execution_count": 4,
   "metadata": {},
   "outputs": [
    {
     "name": "stdout",
     "output_type": "stream",
     "text": [
      "/local-scratch/nigam/projects/jlemmon/transfer_learning/experiments/data/merged_features/features_sparse/features_row_id_map.parquet\n",
      "/local-scratch/nigam/projects/jlemmon/transfer_learning/experiments/data/merged_features/vocab/vocab.parquet\n"
     ]
    }
   ],
   "source": [
    "feats_id_map = read_file(\n",
    "\t\tos.path.join(\n",
    "\t\t\tfeat_path,\n",
    "\t\t\t\"features_row_id_map.parquet\"\n",
    "\t\t),\n",
    "\t\tengine='pyarrow'\n",
    "\t)\n",
    "vocab = read_file(\n",
    "\t\tos.path.join(\n",
    "\t\t\tvocab_path,\n",
    "\t\t\t\"vocab.parquet\"\n",
    "\t\t),\n",
    "\t\tengine='pyarrow'\n",
    ")"
   ]
  },
  {
   "cell_type": "code",
   "execution_count": 5,
   "metadata": {},
   "outputs": [],
   "source": [
    "features = joblib.load(os.path.join(feat_path,\"features.gz\"))"
   ]
  },
  {
   "cell_type": "code",
   "execution_count": 6,
   "metadata": {},
   "outputs": [
    {
     "name": "stdout",
     "output_type": "stream",
     "text": [
      "/local-scratch/nigam/projects/jlemmon/transfer_learning/experiments/data/cohort/cohort_split.parquet\n"
     ]
    }
   ],
   "source": [
    "cohort = read_file(\n",
    "\t\tos.path.join(\n",
    "\t\t\tcohort_path,\n",
    "\t\t\t\"cohort_split.parquet\"\n",
    "\t\t),\n",
    "\t\tengine='pyarrow'\n",
    "\t)\n",
    "cohort = cohort.merge(feats_id_map)"
   ]
  },
  {
   "cell_type": "code",
   "execution_count": 7,
   "metadata": {},
   "outputs": [],
   "source": [
    "ped_df = cohort[cohort['age_group'] == '<18']"
   ]
  },
  {
   "cell_type": "code",
   "execution_count": 8,
   "metadata": {},
   "outputs": [],
   "source": [
    "adult_df = cohort[cohort['age_group'] != '<18']"
   ]
  },
  {
   "cell_type": "code",
   "execution_count": 9,
   "metadata": {},
   "outputs": [],
   "source": [
    "ped_rows = list(ped_df['features_row_id'])\n",
    "ad_rows = list(adult_df['features_row_id'])\n",
    "\n",
    "ped_row_map = pd.DataFrame({'row_idx_new':[i for i in range(len(ped_rows))], 'row_idx_og':ped_rows})\n",
    "ad_row_map = pd.DataFrame({'row_idx_new':[i for i in range(len(ad_rows))], 'row_idx_og':ad_rows})"
   ]
  },
  {
   "cell_type": "code",
   "execution_count": 10,
   "metadata": {},
   "outputs": [],
   "source": [
    "ped_row_map.to_csv('/local-scratch/nigam/projects/jlemmon/transfer_learning/experiments/data/bin_features/pediatric/pat_map.csv',index=False)\n",
    "ad_row_map.to_csv('/local-scratch/nigam/projects/jlemmon/transfer_learning/experiments/data/bin_features/adult/pat_map.csv',index=False)"
   ]
  },
  {
   "cell_type": "code",
   "execution_count": 31,
   "metadata": {},
   "outputs": [],
   "source": [
    "# ad_list = [features[a].todense() for a in ad_rows]\n",
    "# ped_list = [features[p].todense() for p in ped_rows]"
   ]
  },
  {
   "cell_type": "code",
   "execution_count": 11,
   "metadata": {},
   "outputs": [],
   "source": [
    "ped_feats = [features.getrow(r) for r in ped_rows]"
   ]
  },
  {
   "cell_type": "code",
   "execution_count": 15,
   "metadata": {},
   "outputs": [
    {
     "name": "stdout",
     "output_type": "stream",
     "text": [
      "  (0, 2432)\t1\n",
      "  (0, 2436)\t1\n",
      "  (0, 3278)\t1\n",
      "  (0, 3279)\t1\n",
      "  (0, 3280)\t1\n",
      "  (0, 3281)\t1\n",
      "  (0, 3284)\t1\n",
      "  (0, 3285)\t1\n",
      "  (0, 4103)\t1\n",
      "  (0, 4112)\t1\n",
      "  (0, 8204)\t1\n",
      "  (0, 8205)\t1\n",
      "  (0, 8206)\t1\n",
      "  (0, 8207)\t1\n",
      "  (0, 8210)\t1\n",
      "  (0, 8211)\t1\n",
      "  (0, 8212)\t1\n",
      "  (0, 8216)\t1\n",
      "  (0, 8218)\t1\n",
      "  (0, 8220)\t1\n",
      "  (0, 8221)\t1\n",
      "  (0, 8222)\t1\n",
      "  (0, 19125)\t1\n",
      "  (0, 87746)\t1\n",
      "  (0, 87788)\t1\n",
      "  :\t:\n",
      "  (0, 235062)\t1\n",
      "  (0, 235066)\t1\n",
      "  (0, 235309)\t1\n",
      "  (0, 235339)\t1\n",
      "  (0, 235362)\t1\n",
      "  (0, 235445)\t1\n",
      "  (0, 235613)\t1\n",
      "  (0, 235629)\t1\n",
      "  (0, 239005)\t1\n",
      "  (0, 239038)\t1\n",
      "  (0, 239039)\t1\n",
      "  (0, 239040)\t1\n",
      "  (0, 239041)\t1\n",
      "  (0, 239043)\t1\n",
      "  (0, 239044)\t1\n",
      "  (0, 239045)\t1\n",
      "  (0, 239046)\t1\n",
      "  (0, 239047)\t1\n",
      "  (0, 239048)\t1\n",
      "  (0, 239050)\t1\n",
      "  (0, 239052)\t1\n",
      "  (0, 239055)\t1\n",
      "  (0, 239057)\t1\n",
      "  (0, 239058)\t1\n",
      "  (0, 239059)\t1\n"
     ]
    }
   ],
   "source": []
  },
  {
   "cell_type": "code",
   "execution_count": 12,
   "metadata": {},
   "outputs": [],
   "source": [
    "pkl_file = open('/local-scratch/nigam/projects/jlemmon/transfer_learning/experiments/data/bin_features/pediatric/full.txt','wb')\n",
    "pickle.dump(ped_list, pkl_file)"
   ]
  },
  {
   "cell_type": "code",
   "execution_count": 13,
   "metadata": {},
   "outputs": [],
   "source": [
    "pkl_file = open('/local-scratch/nigam/projects/jlemmon/transfer_learning/experiments/data/bin_features/adult/full.txt','wb')\n",
    "pickle.dump(ad_list, pkl_file)"
   ]
  },
  {
   "cell_type": "code",
   "execution_count": null,
   "metadata": {},
   "outputs": [],
   "source": [
    "#sum_ped_list = np.sum(np.array(ped_list), axis=1)\n",
    "#sum_ad_list = ad_list.sum(axis=1)"
   ]
  },
  {
   "cell_type": "code",
   "execution_count": 15,
   "metadata": {},
   "outputs": [
    {
     "name": "stderr",
     "output_type": "stream",
     "text": [
      "/tmp/ipykernel_2349198/936436005.py:1: SparseEfficiencyWarning: Comparing a sparse matrix with 0 using == is inefficient, try using != instead.\n",
      "  bin_ped_feat_list = [0 if i==0 else 1 for i in sum_ped_list]\n"
     ]
    },
    {
     "ename": "ValueError",
     "evalue": "The truth value of an array with more than one element is ambiguous. Use a.any() or a.all().",
     "output_type": "error",
     "traceback": [
      "\u001b[0;31m---------------------------------------------------------------------------\u001b[0m",
      "\u001b[0;31mValueError\u001b[0m                                Traceback (most recent call last)",
      "Input \u001b[0;32mIn [15]\u001b[0m, in \u001b[0;36m<module>\u001b[0;34m\u001b[0m\n\u001b[0;32m----> 1\u001b[0m bin_ped_feat_list \u001b[38;5;241m=\u001b[39m [\u001b[38;5;241m0\u001b[39m \u001b[38;5;28;01mif\u001b[39;00m i\u001b[38;5;241m==\u001b[39m\u001b[38;5;241m0\u001b[39m \u001b[38;5;28;01melse\u001b[39;00m \u001b[38;5;241m1\u001b[39m \u001b[38;5;28;01mfor\u001b[39;00m i \u001b[38;5;129;01min\u001b[39;00m sum_ped_list]\n\u001b[1;32m      2\u001b[0m bin_ad_feat_list \u001b[38;5;241m=\u001b[39m [\u001b[38;5;241m0\u001b[39m \u001b[38;5;28;01mif\u001b[39;00m i\u001b[38;5;241m==\u001b[39m\u001b[38;5;241m0\u001b[39m \u001b[38;5;28;01melse\u001b[39;00m \u001b[38;5;241m1\u001b[39m \u001b[38;5;28;01mfor\u001b[39;00m i \u001b[38;5;129;01min\u001b[39;00m sum_ad_list]\n",
      "Input \u001b[0;32mIn [15]\u001b[0m, in \u001b[0;36m<listcomp>\u001b[0;34m(.0)\u001b[0m\n\u001b[0;32m----> 1\u001b[0m bin_ped_feat_list \u001b[38;5;241m=\u001b[39m [\u001b[38;5;241m0\u001b[39m \u001b[38;5;28;01mif\u001b[39;00m i\u001b[38;5;241m==\u001b[39m\u001b[38;5;241m0\u001b[39m \u001b[38;5;28;01melse\u001b[39;00m \u001b[38;5;241m1\u001b[39m \u001b[38;5;28;01mfor\u001b[39;00m i \u001b[38;5;129;01min\u001b[39;00m sum_ped_list]\n\u001b[1;32m      2\u001b[0m bin_ad_feat_list \u001b[38;5;241m=\u001b[39m [\u001b[38;5;241m0\u001b[39m \u001b[38;5;28;01mif\u001b[39;00m i\u001b[38;5;241m==\u001b[39m\u001b[38;5;241m0\u001b[39m \u001b[38;5;28;01melse\u001b[39;00m \u001b[38;5;241m1\u001b[39m \u001b[38;5;28;01mfor\u001b[39;00m i \u001b[38;5;129;01min\u001b[39;00m sum_ad_list]\n",
      "File \u001b[0;32m/local-scratch/nigam/envs/jlemmon/conl/lib/python3.9/site-packages/scipy/sparse/base.py:283\u001b[0m, in \u001b[0;36mspmatrix.__bool__\u001b[0;34m(self)\u001b[0m\n\u001b[1;32m    281\u001b[0m     \u001b[38;5;28;01mreturn\u001b[39;00m \u001b[38;5;28mself\u001b[39m\u001b[38;5;241m.\u001b[39mnnz \u001b[38;5;241m!=\u001b[39m \u001b[38;5;241m0\u001b[39m\n\u001b[1;32m    282\u001b[0m \u001b[38;5;28;01melse\u001b[39;00m:\n\u001b[0;32m--> 283\u001b[0m     \u001b[38;5;28;01mraise\u001b[39;00m \u001b[38;5;167;01mValueError\u001b[39;00m(\u001b[38;5;124m\"\u001b[39m\u001b[38;5;124mThe truth value of an array with more than one \u001b[39m\u001b[38;5;124m\"\u001b[39m\n\u001b[1;32m    284\u001b[0m                      \u001b[38;5;124m\"\u001b[39m\u001b[38;5;124melement is ambiguous. Use a.any() or a.all().\u001b[39m\u001b[38;5;124m\"\u001b[39m)\n",
      "\u001b[0;31mValueError\u001b[0m: The truth value of an array with more than one element is ambiguous. Use a.any() or a.all()."
     ]
    }
   ],
   "source": [
    "bin_ped_feat_list = [0 if i==0 else 1 for i in sum_ped_list]\n",
    "bin_ad_feat_list = [0 if i==0 else 1 for i in sum_ad_list]"
   ]
  },
  {
   "cell_type": "code",
   "execution_count": 37,
   "metadata": {},
   "outputs": [
    {
     "name": "stdout",
     "output_type": "stream",
     "text": [
      "112439\n",
      "222242\n"
     ]
    }
   ],
   "source": [
    "print(np.sum(bin_ped_feat_list))\n",
    "print(np.sum(bin_ad_feat_list))"
   ]
  },
  {
   "cell_type": "code",
   "execution_count": 13,
   "metadata": {},
   "outputs": [],
   "source": [
    "feat_count_dict = {\n",
    "    'neither': 0,\n",
    "    'both': 0,\n",
    "    'pediatric': 0,\n",
    "    'adult': 0\n",
    "}\n",
    "ped_feat_indices = []\n",
    "ad_feat_indices = []\n",
    "shared_feat_indices = []\n",
    "for i in range(len(bin_ped_feat_list)):\n",
    "    ped = bin_ped_feat_list[i]\n",
    "    ad = bin_ad_feat_list[i]\n",
    "    if ped == 0 and ad == 0:\n",
    "        feat_count_dict['neither'] = feat_count_dict['neither'] + 1\n",
    "    elif ped == 1 and ad == 0:\n",
    "        feat_count_dict['pediatric'] = feat_count_dict['pediatric'] + 1\n",
    "        ped_feat_indices.append(i)\n",
    "    elif ped == 0 and ad == 1:\n",
    "        feat_count_dict['adult'] = feat_count_dict['adult'] + 1\n",
    "        ad_feat_indices.append(i)\n",
    "    elif ped == 1 and ad == 1:\n",
    "        feat_count_dict['both'] = feat_count_dict['both'] + 1\n",
    "        shared_feat_indices.append(i)"
   ]
  },
  {
   "cell_type": "code",
   "execution_count": 42,
   "metadata": {},
   "outputs": [
    {
     "name": "stdout",
     "output_type": "stream",
     "text": [
      "neither:9941\n",
      "both:105444\n",
      "pediatric:6995\n",
      "adult:116557\n"
     ]
    }
   ],
   "source": [
    "for k in feat_count_dict.keys():\n",
    "    print(f'{k}:{feat_count_dict[k]}')"
   ]
  },
  {
   "cell_type": "code",
   "execution_count": 40,
   "metadata": {},
   "outputs": [],
   "source": [
    "pkl_file = open('/local-scratch/nigam/projects/jlemmon/transfer_learning/experiments/data/bin_features/adult/feat_used.txt','wb')\n",
    "pickle.dump(bin_ad_feat_list, pkl_file)\n",
    "pkl_file.close()\n",
    "pkl_file = open('/local-scratch/nigam/projects/jlemmon/transfer_learning/experiments/data/bin_features/pediatric/feat_used.txt','wb')\n",
    "pickle.dump(bin_ped_feat_list, pkl_file)\n",
    "pkl_file.close()"
   ]
  },
  {
   "cell_type": "code",
   "execution_count": 10,
   "metadata": {},
   "outputs": [],
   "source": [
    "pkl_file = open('/local-scratch/nigam/projects/jlemmon/transfer_learning/experiments/data/bin_features/adult/feat_used.txt','rb')\n",
    "bin_ad_feat_list = pickle.load(pkl_file)\n",
    "pkl_file.close()\n",
    "pkl_file = open('/local-scratch/nigam/projects/jlemmon/transfer_learning/experiments/data/bin_features/pediatric/feat_used.txt','rb')\n",
    "bin_ped_feat_list = pickle.load(pkl_file)\n",
    "pkl_file.close()"
   ]
  },
  {
   "cell_type": "code",
   "execution_count": 14,
   "metadata": {},
   "outputs": [],
   "source": [
    "pd.DataFrame({'feat_indices':ad_feat_indices}).to_csv('/local-scratch/nigam/projects/jlemmon/transfer_learning/experiments/data/bin_features/only_adult_feats.csv',index=False)\n",
    "pd.DataFrame({'feat_indices':ped_feat_indices}).to_csv('/local-scratch/nigam/projects/jlemmon/transfer_learning/experiments/data/bin_features/only_pediatric_feats.csv',index=False)\n",
    "pd.DataFrame({'feat_indices':shared_feat_indices}).to_csv('/local-scratch/nigam/projects/jlemmon/transfer_learning/experiments/data/bin_features/shared_feats.csv',index=False)"
   ]
  },
  {
   "cell_type": "code",
   "execution_count": null,
   "metadata": {},
   "outputs": [],
   "source": []
  }
 ],
 "metadata": {
  "kernelspec": {
   "display_name": "conl",
   "language": "python",
   "name": "conl"
  },
  "language_info": {
   "codemirror_mode": {
    "name": "ipython",
    "version": 3
   },
   "file_extension": ".py",
   "mimetype": "text/x-python",
   "name": "python",
   "nbconvert_exporter": "python",
   "pygments_lexer": "ipython3",
   "version": "3.9.10"
  }
 },
 "nbformat": 4,
 "nbformat_minor": 2
}
