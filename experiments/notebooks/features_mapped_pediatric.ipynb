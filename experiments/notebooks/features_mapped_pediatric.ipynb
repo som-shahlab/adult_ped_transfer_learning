{
 "cells": [
  {
   "cell_type": "code",
   "execution_count": 25,
   "metadata": {},
   "outputs": [],
   "source": [
    "import os\n",
    "import numpy as np\n",
    "import pandas as pd\n",
    "import joblib\n",
    "import sklearn\n",
    "\n",
    "from scipy.sparse import csr_matrix"
   ]
  },
  {
   "cell_type": "code",
   "execution_count": 26,
   "metadata": {},
   "outputs": [],
   "source": [
    "data_path = \"/local-scratch/nigam/projects/jlemmon/transfer_learning/experiments/data\"\n",
    "merged_name = \"merged_features\"\n",
    "random_state = np.random.RandomState(0)"
   ]
  },
  {
   "cell_type": "code",
   "execution_count": 27,
   "metadata": {},
   "outputs": [],
   "source": [
    "cohort = pd.read_parquet(\n",
    "    os.path.join(data_path, 'cohort', 'cohort.parquet')\n",
    ")\n",
    "features = joblib.load(\n",
    "    os.path.join(data_path, merged_name, 'features_sparse', 'features.gz')\n",
    ")\n",
    "\n",
    "row_id_map = pd.read_parquet(\n",
    "    os.path.join(data_path, merged_name, 'features_sparse', 'features_row_id_map.parquet')\n",
    ")\n",
    "\n",
    "vocab = pd.read_parquet(\n",
    "    os.path.join(data_path, merged_name, 'vocab', 'vocab.parquet')\n",
    ")"
   ]
  },
  {
   "cell_type": "code",
   "execution_count": 28,
   "metadata": {},
   "outputs": [],
   "source": [
    "cohort = cohort.merge(row_id_map)"
   ]
  },
  {
   "cell_type": "code",
   "execution_count": 29,
   "metadata": {},
   "outputs": [
    {
     "name": "stdout",
     "output_type": "stream",
     "text": [
      "292392\n",
      "292392\n"
     ]
    }
   ],
   "source": [
    "print(features.shape[0])\n",
    "print(cohort.shape[0])"
   ]
  },
  {
   "cell_type": "code",
   "execution_count": 30,
   "metadata": {},
   "outputs": [],
   "source": [
    "cohort_adult = cohort.query('adult_at_admission == 1')\n",
    "cohort_pediatric = cohort.query('adult_at_admission == 0')\n",
    "cohort_train = cohort.query('fold_id != \"test\" & fold_id != \"eval\"')\n",
    "cohort_train_adult = cohort_adult.query('fold_id != \"test\" & fold_id != \"eval\"')\n",
    "cohort_train_pediatric = cohort_pediatric.query('fold_id != \"test\" & fold_id != \"eval\"')"
   ]
  },
  {
   "cell_type": "code",
   "execution_count": 31,
   "metadata": {},
   "outputs": [],
   "source": [
    "features_adult = features[cohort_adult['features_row_id'].values]\n",
    "features_pediatric = features[cohort_pediatric['features_row_id'].values]\n",
    "features_train_adult = features[cohort_train_adult['features_row_id'].values]\n",
    "features_train_pediatric = features[cohort_train_pediatric['features_row_id'].values]"
   ]
  },
  {
   "cell_type": "code",
   "execution_count": 32,
   "metadata": {},
   "outputs": [],
   "source": [
    "assert features.shape[0] == cohort.shape[0]\n",
    "assert features_adult.shape[0] == cohort_adult.shape[0]\n",
    "assert features_pediatric.shape[0] == cohort_pediatric.shape[0]\n",
    "assert features_train_adult.shape[0] == cohort_train_adult.shape[0]\n",
    "assert features_train_pediatric.shape[0] == cohort_train_pediatric.shape[0]"
   ]
  },
  {
   "cell_type": "code",
   "execution_count": 33,
   "metadata": {},
   "outputs": [],
   "source": [
    "coo_train_pediatric = features_train_pediatric.tocoo()\n",
    "vocab_pediatric_train = pd.DataFrame({'col_id': coo_train_pediatric.col}).drop_duplicates()\n",
    "vocab_pediatric_train = vocab_pediatric_train.reset_index(drop=True).rename_axis('col_id_new').reset_index()"
   ]
  },
  {
   "cell_type": "code",
   "execution_count": 34,
   "metadata": {},
   "outputs": [
    {
     "data": {
      "text/html": [
       "<div>\n",
       "<style scoped>\n",
       "    .dataframe tbody tr th:only-of-type {\n",
       "        vertical-align: middle;\n",
       "    }\n",
       "\n",
       "    .dataframe tbody tr th {\n",
       "        vertical-align: top;\n",
       "    }\n",
       "\n",
       "    .dataframe thead th {\n",
       "        text-align: right;\n",
       "    }\n",
       "</style>\n",
       "<table border=\"1\" class=\"dataframe\">\n",
       "  <thead>\n",
       "    <tr style=\"text-align: right;\">\n",
       "      <th></th>\n",
       "      <th>col_id_new</th>\n",
       "      <th>col_id</th>\n",
       "    </tr>\n",
       "  </thead>\n",
       "  <tbody>\n",
       "    <tr>\n",
       "      <th>0</th>\n",
       "      <td>0</td>\n",
       "      <td>541</td>\n",
       "    </tr>\n",
       "    <tr>\n",
       "      <th>1</th>\n",
       "      <td>1</td>\n",
       "      <td>544</td>\n",
       "    </tr>\n",
       "    <tr>\n",
       "      <th>2</th>\n",
       "      <td>2</td>\n",
       "      <td>17147</td>\n",
       "    </tr>\n",
       "    <tr>\n",
       "      <th>3</th>\n",
       "      <td>3</td>\n",
       "      <td>17150</td>\n",
       "    </tr>\n",
       "    <tr>\n",
       "      <th>4</th>\n",
       "      <td>4</td>\n",
       "      <td>17148</td>\n",
       "    </tr>\n",
       "    <tr>\n",
       "      <th>...</th>\n",
       "      <td>...</td>\n",
       "      <td>...</td>\n",
       "    </tr>\n",
       "    <tr>\n",
       "      <th>21001</th>\n",
       "      <td>21001</td>\n",
       "      <td>23599</td>\n",
       "    </tr>\n",
       "    <tr>\n",
       "      <th>21002</th>\n",
       "      <td>21002</td>\n",
       "      <td>28572</td>\n",
       "    </tr>\n",
       "    <tr>\n",
       "      <th>21003</th>\n",
       "      <td>21003</td>\n",
       "      <td>659</td>\n",
       "    </tr>\n",
       "    <tr>\n",
       "      <th>21004</th>\n",
       "      <td>21004</td>\n",
       "      <td>30337</td>\n",
       "    </tr>\n",
       "    <tr>\n",
       "      <th>21005</th>\n",
       "      <td>21005</td>\n",
       "      <td>1298</td>\n",
       "    </tr>\n",
       "  </tbody>\n",
       "</table>\n",
       "<p>21006 rows × 2 columns</p>\n",
       "</div>"
      ],
      "text/plain": [
       "       col_id_new  col_id\n",
       "0               0     541\n",
       "1               1     544\n",
       "2               2   17147\n",
       "3               3   17150\n",
       "4               4   17148\n",
       "...           ...     ...\n",
       "21001       21001   23599\n",
       "21002       21002   28572\n",
       "21003       21003     659\n",
       "21004       21004   30337\n",
       "21005       21005    1298\n",
       "\n",
       "[21006 rows x 2 columns]"
      ]
     },
     "execution_count": 34,
     "metadata": {},
     "output_type": "execute_result"
    }
   ],
   "source": [
    "vocab_pediatric_train"
   ]
  },
  {
   "cell_type": "code",
   "execution_count": 35,
   "metadata": {},
   "outputs": [],
   "source": [
    "# Map vocabularies across datasets\n",
    "\n",
    "data_coo = features.tocoo()\n",
    "data_coo_df = pd.DataFrame({\n",
    "    'row_id': data_coo.row,\n",
    "    'col_id': data_coo.col,\n",
    "    'data': data_coo.data\n",
    "})\n",
    "\n",
    "data_coo_df\n",
    "\n",
    "data_coo_df_mapped = data_coo_df.merge(vocab_pediatric_train)\n",
    "\n",
    "features_mapped = csr_matrix(\n",
    "     (data_coo_df_mapped.data.values.astype(np.int64), \n",
    "      (data_coo_df_mapped.row_id.values, data_coo_df_mapped.col_id_new.values)\n",
    "     ), \n",
    "     shape=(features.shape[0], vocab_pediatric_train.shape[0])\n",
    ")\n",
    "\n",
    "# features_peds"
   ]
  },
  {
   "cell_type": "code",
   "execution_count": 36,
   "metadata": {},
   "outputs": [],
   "source": [
    "result_path = os.path.join(data_path, 'features_mapped_pediatric')\n",
    "os.makedirs(os.path.join(result_path, 'features_sparse'), exist_ok = True)\n",
    "os.makedirs(os.path.join(result_path, 'vocab'), exist_ok = True)"
   ]
  },
  {
   "cell_type": "code",
   "execution_count": 38,
   "metadata": {},
   "outputs": [
    {
     "data": {
      "text/plain": [
       "['/local-scratch/nigam/projects/jlemmon/transfer_learning/experiments/data/features_mapped_pediatric/features_sparse/features.gz']"
      ]
     },
     "execution_count": 38,
     "metadata": {},
     "output_type": "execute_result"
    }
   ],
   "source": [
    "joblib.dump(\n",
    "    features_mapped, \n",
    "    os.path.join(result_path, 'features_sparse', 'features.gz')\n",
    ")"
   ]
  },
  {
   "cell_type": "code",
   "execution_count": 39,
   "metadata": {},
   "outputs": [],
   "source": [
    "vocab_pediatric_train.to_parquet(\n",
    "    os.path.join(result_path, 'vocab', 'vocab.parquet'), index=False\n",
    ")"
   ]
  },
  {
   "cell_type": "code",
   "execution_count": 40,
   "metadata": {},
   "outputs": [],
   "source": [
    "row_id_map.to_parquet(\n",
    "    os.path.join(result_path, 'features_sparse', 'features_row_id_map.parquet'),\n",
    "    index=False\n",
    ")"
   ]
  },
  {
   "cell_type": "code",
   "execution_count": null,
   "metadata": {},
   "outputs": [],
   "source": []
  }
 ],
 "metadata": {
  "kernelspec": {
   "display_name": "conl",
   "language": "python",
   "name": "conl"
  },
  "language_info": {
   "codemirror_mode": {
    "name": "ipython",
    "version": 3
   },
   "file_extension": ".py",
   "mimetype": "text/x-python",
   "name": "python",
   "nbconvert_exporter": "python",
   "pygments_lexer": "ipython3",
   "version": "3.9.10"
  }
 },
 "nbformat": 4,
 "nbformat_minor": 2
}
