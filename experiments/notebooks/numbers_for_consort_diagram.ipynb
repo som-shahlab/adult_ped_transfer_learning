{
 "cells": [
  {
   "cell_type": "code",
   "execution_count": 36,
   "id": "0a4a5894-b827-4892-b375-a4f913dcab46",
   "metadata": {},
   "outputs": [],
   "source": [
    "import os\n",
    "import pandas as pd"
   ]
  },
  {
   "cell_type": "code",
   "execution_count": 2,
   "id": "fa0cde2a-d70e-421c-8913-b60ae74a8289",
   "metadata": {},
   "outputs": [],
   "source": [
    "dir_cohort = '/local-scratch/nigam/projects/jlemmon/transfer_learning/experiments/data/cohort/cohort_split.parquet'"
   ]
  },
  {
   "cell_type": "code",
   "execution_count": 24,
   "id": "9607a0f5-086b-4fb6-a406-77a4a44778c0",
   "metadata": {},
   "outputs": [],
   "source": [
    "df = pd.read_parquet(dir_cohort)\n",
    "df = df.assign(age_in_days=(df['admit_date']-df['birth_datetime']).dt.days)\n",
    "\n",
    "# each row = unique patient\n",
    "assert(df.shape[0]==df['person_id'].nunique())"
   ]
  },
  {
   "cell_type": "code",
   "execution_count": 25,
   "id": "e8fdec97-ab31-4bcb-a44e-b677c72a46df",
   "metadata": {},
   "outputs": [
    {
     "name": "stdout",
     "output_type": "stream",
     "text": [
      "n = 316197; min admission:2008-01-01 06:01:00; max admission:2022-08-28 16:37:00\n"
     ]
    }
   ],
   "source": [
    "print(f\"n = {df.shape[0]}; min admission:{df.admit_date.min()}; max admission:{df.admit_date.max()}\")"
   ]
  },
  {
   "cell_type": "code",
   "execution_count": 33,
   "id": "0596f061-1b4e-445e-b085-82c3dd4f7ff7",
   "metadata": {},
   "outputs": [],
   "source": [
    "adults = df.query(\"age_in_years>=18\")\n",
    "peds = df.query(\"age_in_years<18 and age_in_days>=28\")"
   ]
  },
  {
   "cell_type": "code",
   "execution_count": 34,
   "id": "f5040f0b-c4d1-45de-9175-bb6bcc86f804",
   "metadata": {},
   "outputs": [
    {
     "data": {
      "text/plain": [
       "(0       185370\n",
       " test     38035\n",
       " val      21406\n",
       " Name: fold_id, dtype: int64,\n",
       " 0       18621\n",
       " test     4959\n",
       " val      2851\n",
       " Name: fold_id, dtype: int64)"
      ]
     },
     "execution_count": 34,
     "metadata": {},
     "output_type": "execute_result"
    }
   ],
   "source": [
    "adults.fold_id.value_counts(), peds.fold_id.value_counts()"
   ]
  },
  {
   "cell_type": "markdown",
   "id": "200dbc90-6035-4b20-9599-02ada5875fa6",
   "metadata": {},
   "source": [
    "#### CLMBR pretraining "
   ]
  },
  {
   "cell_type": "code",
   "execution_count": 44,
   "id": "d34b21df-72fe-4dbb-b622-9249799544c7",
   "metadata": {},
   "outputs": [],
   "source": [
    "dir_pretrain_cohort = \"/local-scratch/nigam/projects/jlemmon/transfer_learning/experiments/data/pretrain_cohort\"\n",
    "\n",
    "def read_file(path):\n",
    "    with open(path,\"r\") as f:\n",
    "        return [x for x in f.read().split('\\n') if x!='']"
   ]
  },
  {
   "cell_type": "code",
   "execution_count": 48,
   "id": "743999a4-76f5-454b-9a5b-933ecc1af0d4",
   "metadata": {},
   "outputs": [
    {
     "data": {
      "text/plain": [
       "[185370, 185370, 20858, 20858]"
      ]
     },
     "execution_count": 48,
     "metadata": {},
     "output_type": "execute_result"
    }
   ],
   "source": [
    "adults_train = read_file(os.path.join(dir_pretrain_cohort,'train_patient_ids_ad.txt'))\n",
    "adults_val = read_file(os.path.join(dir_pretrain_cohort,'val_patient_ids_ad.txt'))\n",
    "peds_train = read_file(os.path.join(dir_pretrain_cohort,'train_patient_ids_ped.txt'))\n",
    "peds_val = read_file(os.path.join(dir_pretrain_cohort,'val_patient_ids_ped.txt'))\n",
    "\n",
    "[len(x) for x in [adults_train, adults_val, peds_train, peds_val]]"
   ]
  },
  {
   "cell_type": "code",
   "execution_count": 46,
   "id": "af7566ae-fa03-4231-9c78-cdcc3aac9857",
   "metadata": {},
   "outputs": [
    {
     "data": {
      "text/plain": [
       "185370"
      ]
     },
     "execution_count": 46,
     "metadata": {},
     "output_type": "execute_result"
    }
   ],
   "source": [
    "len(x)"
   ]
  },
  {
   "cell_type": "markdown",
   "id": "169ccd3e-4e4d-4d02-861c-d95decacba41",
   "metadata": {},
   "source": [
    "#### Final task N for each split"
   ]
  },
  {
   "cell_type": "code",
   "execution_count": 50,
   "id": "585884e2-4951-413a-b216-6fb449b797ba",
   "metadata": {},
   "outputs": [],
   "source": [
    "dir_cohort = '/local-scratch/nigam/projects/jlemmon/transfer_learning/experiments/data/cohort/cohort_split_no_nb.parquet'\n",
    "df = pd.read_parquet(dir_cohort)\n",
    "df = df.assign(age_in_days=(df['admit_date']-df['birth_datetime']).dt.days)\n",
    "\n",
    "# each row = unique patient\n",
    "assert(df.shape[0]==df['person_id'].nunique())"
   ]
  },
  {
   "cell_type": "code",
   "execution_count": null,
   "id": "72295a81-9482-4393-8e46-3c21a56b2b12",
   "metadata": {},
   "outputs": [],
   "source": [
    "filters = {\n",
    "    'adults':\"age_in_years>=18\",\n",
    "    'peds':\"age_in_years<18 and age_in_days>=28\"\n",
    "}\n",
    "\n",
    "tasks = [\n",
    "    'hospital_mortality', 'LOS_7', 'readmission_30', 'sepsis', \n",
    "    'aki_lab_aki3_label', 'hyperkalemia_lab_severe_label', \n",
    "    'hypoglycemia_lab_severe_label','hyponatremia_lab_severe_label',\n",
    "    'anemia_lab_severe_label','neutropenia_lab_severe_label',\n",
    "    'thrombocytopenia_lab_severe_label'\n",
    "]\n",
    "\n",
    "titles = {\n",
    "    'hospital_mortality':'Hospital Mortality', \n",
    "    'sepsis':'Sepsis', \n",
    "    'LOS_7':'Long LOS', \n",
    "    'readmission_30':'30-day Readmission', \n",
    "    'aki_lab_aki1_label':'Acute Kidney Injury',\n",
    "    'aki_lab_aki3_label':'Acute Kidney Injury',\n",
    "    'hyperkalemia_lab_mild_label':'Hyperkalemia',\n",
    "    'hyperkalemia_lab_severe_label':'Hyperkalemia',\n",
    "    'hypoglycemia_lab_mild_label': 'Hypoglycemia',\n",
    "    'hypoglycemia_lab_severe_label':'Hypoglycemia',\n",
    "    'hyponatremia_lab_mild_label':'Hyponatremia',\n",
    "    'hyponatremia_lab_severe_label':'Hyponatremia',\n",
    "    'neutropenia_lab_mild_label':'Neutropenia',\n",
    "    'neutropenia_lab_severe_label':'Neutropenia',\n",
    "    'anemia_lab_mild_label':'Anemia',\n",
    "    'anemia_lab_severe_label':'Anemia',\n",
    "    'thrombocytopenia_lab_mild_label':'Thrombocytopenia',\n",
    "    'thrombocytopenia_lab_severe_label':'Thrombocytopenia'\n",
    "}\n",
    "\n",
    "tasks_renamed = [titles[x] for x in tasks]\n",
    "\n",
    "table = pd.DataFrame()\n",
    "for group,f in filters.items():\n",
    "    for task in tasks:\n",
    "        fold_id = f\"{task}_fold_id\"\n",
    "        \n",
    "        table = pd.concat((\n",
    "            table,\n",
    "            (\n",
    "                pd.DataFrame(df.query(f)[fold_id].value_counts())\n",
    "                .reset_index()\n",
    "                .rename(columns={'index':'Split',fold_id:'N_admissions'})\n",
    "                .assign(Task=titles[task],Group=group)\n",
    "                .replace({'Split':{'0':'Training','val':'Validation','test':'Test'}})\n",
    "                .query(\"Split==['Training','Validation','Test']\")\n",
    "            )\n",
    "        ))  \n",
    "        \n",
    "for group in ['adults','peds']:\n",
    "    for split in ['Training','Validation','Test']:\n",
    "        table.query(\"Group==@group and Split==@split\")[['Task','N_admissions']].to_csv(f\"tables/splits_{group}_{split}.csv\",index=False)"
   ]
  },
  {
   "cell_type": "code",
   "execution_count": 120,
   "id": "d91a2449-e63f-4587-93f0-a5d21c318b95",
   "metadata": {},
   "outputs": [
    {
     "name": "stdout",
     "output_type": "stream",
     "text": [
      "hospital_mortality:0\n",
      "LOS_7:0\n",
      "readmission_30:6382\n",
      "sepsis:29691\n",
      "aki_lab_aki3_label:3687\n",
      "hyperkalemia_lab_severe_label:706\n",
      "hypoglycemia_lab_severe_label:671\n",
      "hyponatremia_lab_severe_label:2317\n",
      "anemia_lab_severe_label:3036\n",
      "neutropenia_lab_severe_label:445\n",
      "thrombocytopenia_lab_severe_label:2920\n",
      "hospital_mortality:0\n",
      "LOS_7:0\n",
      "readmission_30:255\n",
      "sepsis:2231\n",
      "aki_lab_aki3_label:174\n",
      "hyperkalemia_lab_severe_label:108\n",
      "hypoglycemia_lab_severe_label:127\n",
      "hyponatremia_lab_severe_label:41\n",
      "anemia_lab_severe_label:486\n",
      "neutropenia_lab_severe_label:27\n",
      "thrombocytopenia_lab_severe_label:221\n"
     ]
    }
   ],
   "source": [
    "filters = {\n",
    "    'adults':\"age_in_years>=18\",\n",
    "    'peds':\"age_in_years<18 and age_in_days>=28\"\n",
    "}\n",
    "\n",
    "tasks = [\n",
    "    'hospital_mortality', 'LOS_7', 'readmission_30', 'sepsis', \n",
    "    'aki_lab_aki3_label', 'hyperkalemia_lab_severe_label', \n",
    "    'hypoglycemia_lab_severe_label','hyponatremia_lab_severe_label',\n",
    "    'anemia_lab_severe_label','neutropenia_lab_severe_label',\n",
    "    'thrombocytopenia_lab_severe_label'\n",
    "]\n",
    "\n",
    "titles = {\n",
    "    'hospital_mortality':'Hospital Mortality', \n",
    "    'sepsis':'Sepsis', \n",
    "    'LOS_7':'Long LOS', \n",
    "    'readmission_30':'30-day Readmission', \n",
    "    'aki_lab_aki1_label':'Acute Kidney Injury',\n",
    "    'aki_lab_aki3_label':'Acute Kidney Injury',\n",
    "    'hyperkalemia_lab_mild_label':'Hyperkalemia',\n",
    "    'hyperkalemia_lab_severe_label':'Hyperkalemia',\n",
    "    'hypoglycemia_lab_mild_label': 'Hypoglycemia',\n",
    "    'hypoglycemia_lab_severe_label':'Hypoglycemia',\n",
    "    'hyponatremia_lab_mild_label':'Hyponatremia',\n",
    "    'hyponatremia_lab_severe_label':'Hyponatremia',\n",
    "    'neutropenia_lab_mild_label':'Neutropenia',\n",
    "    'neutropenia_lab_severe_label':'Neutropenia',\n",
    "    'anemia_lab_mild_label':'Anemia',\n",
    "    'anemia_lab_severe_label':'Anemia',\n",
    "    'thrombocytopenia_lab_mild_label':'Thrombocytopenia',\n",
    "    'thrombocytopenia_lab_severe_label':'Thrombocytopenia'\n",
    "}\n",
    "\n",
    "tasks_renamed = [titles[x] for x in tasks]\n",
    "\n",
    "table = pd.DataFrame()\n",
    "for group,f in filters.items():\n",
    "    \n",
    "    n_death_discharge = (df.query(f)['hospital_mortality_fold_id']=='ignore').sum()\n",
    "    \n",
    "    for task in tasks:\n",
    "        fold_id = f\"{task}_fold_id\"\n",
    "        n_excluded = (df.query(f)[fold_id]=='ignore').sum()\n",
    "        print(f\"{task}:{n_excluded-n_death_discharge},}\")\n",
    "        \n",
    "#for group in ['adults','peds']:\n",
    "#    for split in ['Training','Validation','Test']:\n",
    "#        table.query(\"Group==@group and Split==@split\")[['Task','N_admissions']].to_csv(f\"tables/splits_{group}_{split}.csv\",index=False)"
   ]
  },
  {
   "cell_type": "code",
   "execution_count": null,
   "id": "fafba879-15f6-44b7-847b-d52954138677",
   "metadata": {},
   "outputs": [],
   "source": []
  }
 ],
 "metadata": {
  "kernelspec": {
   "display_name": "Python 3 (ipykernel)",
   "language": "python",
   "name": "python3"
  },
  "language_info": {
   "codemirror_mode": {
    "name": "ipython",
    "version": 3
   },
   "file_extension": ".py",
   "mimetype": "text/x-python",
   "name": "python",
   "nbconvert_exporter": "python",
   "pygments_lexer": "ipython3",
   "version": "3.8.13"
  }
 },
 "nbformat": 4,
 "nbformat_minor": 5
}
