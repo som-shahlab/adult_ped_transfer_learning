{
 "cells": [
  {
   "cell_type": "code",
   "execution_count": 9,
   "metadata": {},
   "outputs": [],
   "source": [
    "import pandas as pd\n",
    "import numpy as np\n",
    "\n",
    "import os\n",
    "import argparse\n",
    "import pickle\n",
    "import joblib\n",
    "import pdb\n",
    "import warnings"
   ]
  },
  {
   "cell_type": "code",
   "execution_count": 36,
   "metadata": {},
   "outputs": [],
   "source": [
    "cohort_path = \"/local-scratch/nigam/projects/jlemmon/transfer_learning/experiments/data/\"\n",
    "# tasks = ['hospital_mortality', 'sepsis', 'LOS_7', 'readmission_30','aki_lab_abnormal_label','aki_lab_aki1_label','aki_lab_aki2_label','aki_lab_aki3_label','hyperkalemia_lab_abnormal_label','hyperkalemia_lab_mild_label','hyperkalemia_lab_moderate_label','hyperkalemia_lab_severe_label','hypoglycemia_lab_abnormal_label','hypoglycemia_lab_mild_label','hypoglycemia_lab_moderate_label','hypoglycemia_lab_severe_label','hyponatremia_lab_abnormal_label','hyponatremia_lab_mild_label','hyponatremia_lab_moderate_label','hyponatremia_lab_severe_label','neutropenia_lab_mild_label','neutropenia_lab_moderate_label','neutropenia_lab_severe_label','anemia_lab_abnormal_label','anemia_lab_mild_label','anemia_lab_moderate_label','anemia_lab_severe_label','thrombocytopenia_lab_abnormal_label','thrombocytopenia_lab_mild_label','thrombocytopenia_lab_moderate_label','thrombocytopenia_lab_severe_label']\n",
    "tasks = ['hospital_mortality', 'sepsis', 'LOS_7', 'readmission_30','aki_lab_aki3_label','hyperkalemia_lab_severe_label','hypoglycemia_lab_severe_label','hyponatremia_lab_severe_label','neutropenia_lab_severe_label','anemia_lab_severe_label','thrombocytopenia_lab_severe_label']\n"
   ]
  },
  {
   "cell_type": "code",
   "execution_count": 11,
   "metadata": {},
   "outputs": [],
   "source": [
    "def read_file(filename, columns=None, **kwargs):\n",
    "    print(filename)\n",
    "    load_extension = os.path.splitext(filename)[-1]\n",
    "    if load_extension == \".parquet\":\n",
    "        return pd.read_parquet(filename, columns=columns,**kwargs)\n",
    "    elif load_extension == \".csv\":\n",
    "        return pd.read_csv(filename, usecols=columns, **kwargs)"
   ]
  },
  {
   "cell_type": "code",
   "execution_count": 12,
   "metadata": {},
   "outputs": [
    {
     "name": "stdout",
     "output_type": "stream",
     "text": [
      "/local-scratch/nigam/projects/jlemmon/transfer_learning/experiments/data/cohort/cohort_split_no_nb.parquet\n"
     ]
    }
   ],
   "source": [
    "cohort = read_file(\n",
    "    os.path.join(\n",
    "        cohort_path,\n",
    "        \"cohort/cohort_split_no_nb.parquet\"\n",
    "    ),\n",
    "    engine='pyarrow'\n",
    ")"
   ]
  },
  {
   "cell_type": "code",
   "execution_count": 40,
   "metadata": {},
   "outputs": [
    {
     "name": "stdout",
     "output_type": "stream",
     "text": [
      "                            person_id\n",
      "adult_at_admission fold_id           \n",
      "0                  0            20860\n",
      "                   test          5581\n",
      "                   val           3178\n",
      "1                  0           185370\n",
      "                   test         38035\n",
      "                   val          21406\n"
     ]
    }
   ],
   "source": [
    "print(cohort[['person_id', 'fold_id', 'adult_at_admission']].groupby(['adult_at_admission','fold_id']).count())"
   ]
  },
  {
   "cell_type": "code",
   "execution_count": 13,
   "metadata": {},
   "outputs": [],
   "source": [
    "ad_cohort = cohort.query(\"adult_at_admission==1\")\n",
    "ped_cohort = cohort.query(\"adult_at_admission==0\")"
   ]
  },
  {
   "cell_type": "code",
   "execution_count": 29,
   "metadata": {},
   "outputs": [
    {
     "data": {
      "text/html": [
       "<div>\n",
       "<style scoped>\n",
       "    .dataframe tbody tr th:only-of-type {\n",
       "        vertical-align: middle;\n",
       "    }\n",
       "\n",
       "    .dataframe tbody tr th {\n",
       "        vertical-align: top;\n",
       "    }\n",
       "\n",
       "    .dataframe thead th {\n",
       "        text-align: right;\n",
       "    }\n",
       "</style>\n",
       "<table border=\"1\" class=\"dataframe\">\n",
       "  <thead>\n",
       "    <tr style=\"text-align: right;\">\n",
       "      <th></th>\n",
       "      <th>person_id</th>\n",
       "    </tr>\n",
       "    <tr>\n",
       "      <th>fold_id</th>\n",
       "      <th></th>\n",
       "    </tr>\n",
       "  </thead>\n",
       "  <tbody>\n",
       "    <tr>\n",
       "      <th>0</th>\n",
       "      <td>20860</td>\n",
       "    </tr>\n",
       "    <tr>\n",
       "      <th>test</th>\n",
       "      <td>5581</td>\n",
       "    </tr>\n",
       "    <tr>\n",
       "      <th>val</th>\n",
       "      <td>3178</td>\n",
       "    </tr>\n",
       "  </tbody>\n",
       "</table>\n",
       "</div>"
      ],
      "text/plain": [
       "         person_id\n",
       "fold_id           \n",
       "0            20860\n",
       "test          5581\n",
       "val           3178"
      ]
     },
     "execution_count": 29,
     "metadata": {},
     "output_type": "execute_result"
    }
   ],
   "source": [
    "ped_cohort[[\"person_id\", \"fold_id\"]].groupby([\"fold_id\"]).count()"
   ]
  },
  {
   "cell_type": "code",
   "execution_count": 15,
   "metadata": {},
   "outputs": [
    {
     "data": {
      "text/html": [
       "<div>\n",
       "<style scoped>\n",
       "    .dataframe tbody tr th:only-of-type {\n",
       "        vertical-align: middle;\n",
       "    }\n",
       "\n",
       "    .dataframe tbody tr th {\n",
       "        vertical-align: top;\n",
       "    }\n",
       "\n",
       "    .dataframe thead th {\n",
       "        text-align: right;\n",
       "    }\n",
       "</style>\n",
       "<table border=\"1\" class=\"dataframe\">\n",
       "  <thead>\n",
       "    <tr style=\"text-align: right;\">\n",
       "      <th></th>\n",
       "      <th>person_id</th>\n",
       "      <th>fold_id</th>\n",
       "    </tr>\n",
       "  </thead>\n",
       "  <tbody>\n",
       "    <tr>\n",
       "      <th>0</th>\n",
       "      <td>29936887</td>\n",
       "      <td>0</td>\n",
       "    </tr>\n",
       "    <tr>\n",
       "      <th>1</th>\n",
       "      <td>29936888</td>\n",
       "      <td>0</td>\n",
       "    </tr>\n",
       "    <tr>\n",
       "      <th>2</th>\n",
       "      <td>29936900</td>\n",
       "      <td>0</td>\n",
       "    </tr>\n",
       "    <tr>\n",
       "      <th>3</th>\n",
       "      <td>29936906</td>\n",
       "      <td>0</td>\n",
       "    </tr>\n",
       "    <tr>\n",
       "      <th>4</th>\n",
       "      <td>29936914</td>\n",
       "      <td>0</td>\n",
       "    </tr>\n",
       "    <tr>\n",
       "      <th>...</th>\n",
       "      <td>...</td>\n",
       "      <td>...</td>\n",
       "    </tr>\n",
       "    <tr>\n",
       "      <th>274191</th>\n",
       "      <td>43705036</td>\n",
       "      <td>0</td>\n",
       "    </tr>\n",
       "    <tr>\n",
       "      <th>274196</th>\n",
       "      <td>43705412</td>\n",
       "      <td>0</td>\n",
       "    </tr>\n",
       "    <tr>\n",
       "      <th>274216</th>\n",
       "      <td>43742869</td>\n",
       "      <td>0</td>\n",
       "    </tr>\n",
       "    <tr>\n",
       "      <th>274219</th>\n",
       "      <td>43743212</td>\n",
       "      <td>0</td>\n",
       "    </tr>\n",
       "    <tr>\n",
       "      <th>274407</th>\n",
       "      <td>80496266</td>\n",
       "      <td>0</td>\n",
       "    </tr>\n",
       "  </tbody>\n",
       "</table>\n",
       "<p>185370 rows × 2 columns</p>\n",
       "</div>"
      ],
      "text/plain": [
       "        person_id fold_id\n",
       "0        29936887       0\n",
       "1        29936888       0\n",
       "2        29936900       0\n",
       "3        29936906       0\n",
       "4        29936914       0\n",
       "...           ...     ...\n",
       "274191   43705036       0\n",
       "274196   43705412       0\n",
       "274216   43742869       0\n",
       "274219   43743212       0\n",
       "274407   80496266       0\n",
       "\n",
       "[185370 rows x 2 columns]"
      ]
     },
     "execution_count": 15,
     "metadata": {},
     "output_type": "execute_result"
    }
   ],
   "source": [
    "ad_cohort.query(\"admission_year<=2019\")[[\"person_id\", \"fold_id\"]]#.groupby([\"fold_id\"]).count()"
   ]
  },
  {
   "cell_type": "code",
   "execution_count": 38,
   "metadata": {},
   "outputs": [
    {
     "name": "stdout",
     "output_type": "stream",
     "text": [
      "                                 task  prevalence  total_pos  total_pats\n",
      "0                  hospital_mortality    1.077011        319       29619\n",
      "1                              sepsis    2.376853        704       29619\n",
      "2                               LOS_7   19.892636       5892       29619\n",
      "3                      readmission_30    5.645025       1672       29619\n",
      "4                  aki_lab_aki3_label    0.975725        289       29619\n",
      "5       hyperkalemia_lab_severe_label    1.796144        532       29619\n",
      "6       hypoglycemia_lab_severe_label    1.718492        509       29619\n",
      "7       hyponatremia_lab_severe_label    1.090516        323       29619\n",
      "8        neutropenia_lab_severe_label    1.083764        321       29619\n",
      "9             anemia_lab_severe_label    3.717209       1101       29619\n",
      "10  thrombocytopenia_lab_severe_label    2.106756        624       29619\n"
     ]
    }
   ],
   "source": [
    "prev_df = pd.DataFrame()\n",
    "for task in tasks:\n",
    "    c_df = ped_cohort[[\"person_id\",f\"{task}\"]]\n",
    "    s = c_df.query(f\"{task}==1\")[task].sum()\n",
    "    df = pd.DataFrame()\n",
    "    df_dict = {\"task\":[task],\n",
    "               \"prevalence\": [s/len(c_df)*100],\n",
    "               \"total_pos\": [s],\n",
    "               \"total_pats\": [len(c_df)]\n",
    "              }\n",
    "    df = pd.DataFrame(df_dict)\n",
    "    prev_df = pd.concat((prev_df,df))\n",
    "prev_df = prev_df.reset_index(drop=True)\n",
    "with pd.option_context('display.max_rows', None,):\n",
    "    print(prev_df)\n",
    "        "
   ]
  },
  {
   "cell_type": "code",
   "execution_count": 32,
   "metadata": {},
   "outputs": [
    {
     "name": "stdout",
     "output_type": "stream",
     "text": [
      "                                 task  age_group   fold  prevalence  \\\n",
      "0                  hospital_mortality  pediatric  train    1.085850   \n",
      "1                  hospital_mortality  pediatric    val    1.360329   \n",
      "2                  hospital_mortality  pediatric   test    0.936599   \n",
      "3                  hospital_mortality      adult  train    2.135311   \n",
      "4                  hospital_mortality      adult    val    2.169691   \n",
      "..                                ...        ...    ...         ...   \n",
      "61  thrombocytopenia_lab_severe_label  pediatric    val    2.838915   \n",
      "62  thrombocytopenia_lab_severe_label  pediatric   test    2.325581   \n",
      "63  thrombocytopenia_lab_severe_label      adult  train    2.357426   \n",
      "64  thrombocytopenia_lab_severe_label      adult    val    2.186002   \n",
      "65  thrombocytopenia_lab_severe_label      adult   test    2.219475   \n",
      "\n",
      "    total_pos  total_pats  \n",
      "0         224       20629  \n",
      "1          43        3161  \n",
      "2          52        5552  \n",
      "3        3907      182971  \n",
      "4         458       21109  \n",
      "..        ...         ...  \n",
      "61         89        3135  \n",
      "62        128        5504  \n",
      "63       4261      180748  \n",
      "64        456       20860  \n",
      "65        826       37216  \n",
      "\n",
      "[66 rows x 6 columns]\n"
     ]
    }
   ],
   "source": [
    "age_prev_df = pd.DataFrame()\n",
    "for task in tasks:\n",
    "    for aaa in [0, 1]:\n",
    "        for fold in [\"0\", \"val\", \"test\"]:\n",
    "            c_df = cohort[[\"person_id\",f\"{task}\", f\"{task}_fold_id\", \"adult_at_admission\"]].query(f\"{task}_fold_id==@fold and adult_at_admission==@aaa\")\n",
    "            s = c_df.query(f\"{task}==1\")[task].sum()\n",
    "            df = pd.DataFrame()\n",
    "            df_dict = {\"task\":[task],\n",
    "                       \"age_group\": ['pediatric'] if aaa==0 else ['adult'],\n",
    "                       \"fold\":[\"train\"] if fold == \"0\" else [fold],\n",
    "                       \"prevalence\": [s/len(c_df)*100],\n",
    "                       \"total_pos\": [s],\n",
    "                       \"total_pats\": [len(c_df)]\n",
    "                      }\n",
    "            df = pd.DataFrame(df_dict)\n",
    "            age_prev_df = pd.concat((age_prev_df,df))\n",
    "age_prev_df = age_prev_df.reset_index(drop=True)\n",
    "with pd.option_context('display.max_rows', None,):\n",
    "    print(prev_df)\n",
    "        "
   ]
  },
  {
   "cell_type": "code",
   "execution_count": 47,
   "metadata": {},
   "outputs": [
    {
     "name": "stdout",
     "output_type": "stream",
     "text": [
      "['person_id', 'admit_date', 'discharge_date', 'admit_date_midnight', 'discharge_date_midnight', 'hospital_mortality', 'death_date', 'month_mortality', 'LOS_days', 'LOS_7', 'readmission_30', 'readmission_window', 'icu_admission', 'icu_start_datetime', 'age_in_years', 'age_group_x', 'race_eth', 'gender_concept_name', 'race_eth_raw', 'race_eth_gender', 'race_eth_age_group', 'race_eth_gender_age_group', 'race_eth_raw_gender', 'race_eth_raw_age_group', 'race_eth_raw_gender_age_group', 'prediction_id', 'fold_id', 'adult_at_admission', 'sepsis', 'sepsis_index_date', 'admission_year', 'discharge_year', 'hospital_mortality_fold_id', 'sepsis_fold_id', 'LOS_7_fold_id', 'readmission_30_fold_id', 'icu_admission_fold_id', 'birth_datetime', 'age_days', 'pediatric_age_group', 'age_group_y', 'sex', 'race', 'hyperkalemia_lab_max_potassium', 'hyperkalemia_lab_mild_measurement', 'hyperkalemia_lab_mild_measurement_datetime', 'hyperkalemia_lab_mild_label', 'hyperkalemia_lab_moderate_measurement', 'hyperkalemia_lab_moderate_measurement_datetime', 'hyperkalemia_lab_moderate_label', 'hyperkalemia_lab_severe_measurement', 'hyperkalemia_lab_severe_measurement_datetime', 'hyperkalemia_lab_severe_label', 'hyperkalemia_lab_abnormal_measurement', 'hyperkalemia_lab_abnormal_measurement_datetime', 'hyperkalemia_lab_abnormal_label', 'hyperkalemia_lab_abnormal_threshold', 'hypoglycemia_lab_min_glucose', 'hypoglycemia_lab_mild_measurement', 'hypoglycemia_lab_mild_measurement_datetime', 'hypoglycemia_lab_mild_label', 'hypoglycemia_lab_moderate_measurement', 'hypoglycemia_lab_moderate_measurement_datetime', 'hypoglycemia_lab_moderate_label', 'hypoglycemia_lab_severe_measurement', 'hypoglycemia_lab_severe_measurement_datetime', 'hypoglycemia_lab_severe_label', 'hypoglycemia_lab_abnormal_measurement', 'hypoglycemia_lab_abnormal_measurement_datetime', 'hypoglycemia_lab_abnormal_label', 'hypoglycemia_lab_abnormal_threshold', 'neutropenia_lab_min_neutrophils', 'neutropenia_lab_mild_measurement', 'neutropenia_lab_mild_measurement_datetime', 'neutropenia_lab_mild_label', 'neutropenia_lab_moderate_measurement', 'neutropenia_lab_moderate_measurement_datetime', 'neutropenia_lab_moderate_label', 'neutropenia_lab_severe_measurement', 'neutropenia_lab_severe_measurement_datetime', 'neutropenia_lab_severe_label', 'hyponatremia_lab_min_sodium', 'hyponatremia_lab_mild_measurement', 'hyponatremia_lab_mild_measurement_datetime', 'hyponatremia_lab_mild_label', 'hyponatremia_lab_moderate_measurement', 'hyponatremia_lab_moderate_measurement_datetime', 'hyponatremia_lab_moderate_label', 'hyponatremia_lab_severe_measurement', 'hyponatremia_lab_severe_measurement_datetime', 'hyponatremia_lab_severe_label', 'hyponatremia_lab_abnormal_measurement', 'hyponatremia_lab_abnormal_measurement_datetime', 'hyponatremia_lab_abnormal_label', 'hyponatremia_lab_abnormal_threshold', 'aki_lab_max_creatinine', 'aki_lab_aki1_measurement', 'aki_lab_aki1_measurement_datetime', 'aki_lab_aki1_label', 'aki_lab_aki2_measurement', 'aki_lab_aki2_measurement_datetime', 'aki_lab_aki2_label', 'aki_lab_aki3_measurement', 'aki_lab_aki3_measurement_datetime', 'aki_lab_aki3_label', 'aki_lab_abnormal_measurement', 'aki_lab_abnormal_measurement_datetime', 'aki_lab_abnormal_label', 'aki_lab_abnormal_threshold', 'anemia_lab_min_hgb', 'anemia_lab_mild_measurement', 'anemia_lab_mild_measurement_datetime', 'anemia_lab_mild_label', 'anemia_lab_moderate_measurement', 'anemia_lab_moderate_measurement_datetime', 'anemia_lab_moderate_label', 'anemia_lab_severe_measurement', 'anemia_lab_severe_measurement_datetime', 'anemia_lab_severe_label', 'anemia_lab_abnormal_measurement', 'anemia_lab_abnormal_measurement_datetime', 'anemia_lab_abnormal_label', 'anemia_lab_abnormal_threshold', 'thrombocytopenia_lab_min_platelet', 'thrombocytopenia_lab_mild_measurement', 'thrombocytopenia_lab_mild_measurement_datetime', 'thrombocytopenia_lab_mild_label', 'thrombocytopenia_lab_moderate_measurement', 'thrombocytopenia_lab_moderate_measurement_datetime', 'thrombocytopenia_lab_moderate_label', 'thrombocytopenia_lab_severe_measurement', 'thrombocytopenia_lab_severe_measurement_datetime', 'thrombocytopenia_lab_severe_label', 'thrombocytopenia_lab_abnormal_measurement', 'thrombocytopenia_lab_abnormal_measurement_datetime', 'thrombocytopenia_lab_abnormal_label', 'thrombocytopenia_lab_abnormal_threshold', 'hypoglycemia_dx_label', 'hypoglycemia_dx_start_datetime', 'aki_dx_label', 'aki_dx_start_datetime', 'anemia_dx_label', 'anemia_dx_start_datetime', 'hyperkalemia_dx_label', 'hyperkalemia_dx_start_datetime', 'hyponatremia_dx_label', 'hyponatremia_dx_start_datetime', 'thrombocytopenia_dx_label', 'thrombocytopenia_dx_start_datetime', 'neutropenia_dx_label', 'neutropenia_dx_start_datetime', 'hyperkalemia_lab_mild_label_fold_id', 'hyperkalemia_lab_moderate_label_fold_id', 'hyperkalemia_lab_severe_label_fold_id', 'hyperkalemia_lab_abnormal_label_fold_id', 'hypoglycemia_lab_mild_label_fold_id', 'hypoglycemia_lab_moderate_label_fold_id', 'hypoglycemia_lab_severe_label_fold_id', 'hypoglycemia_lab_abnormal_label_fold_id', 'neutropenia_lab_mild_label_fold_id', 'neutropenia_lab_moderate_label_fold_id', 'neutropenia_lab_severe_label_fold_id', 'hyponatremia_lab_mild_label_fold_id', 'hyponatremia_lab_moderate_label_fold_id', 'hyponatremia_lab_severe_label_fold_id', 'hyponatremia_lab_abnormal_label_fold_id', 'aki_lab_aki1_label_fold_id', 'aki_lab_aki2_label_fold_id', 'aki_lab_aki3_label_fold_id', 'aki_lab_abnormal_label_fold_id', 'anemia_lab_mild_label_fold_id', 'anemia_lab_moderate_label_fold_id', 'anemia_lab_severe_label_fold_id', 'anemia_lab_abnormal_label_fold_id', 'thrombocytopenia_lab_mild_label_fold_id', 'thrombocytopenia_lab_moderate_label_fold_id', 'thrombocytopenia_lab_severe_label_fold_id', 'thrombocytopenia_lab_abnormal_label_fold_id']\n"
     ]
    }
   ],
   "source": [
    "print([c for c in cohort.columns])"
   ]
  },
  {
   "cell_type": "code",
   "execution_count": 41,
   "metadata": {},
   "outputs": [
    {
     "data": {
      "text/html": [
       "<div>\n",
       "<style scoped>\n",
       "    .dataframe tbody tr th:only-of-type {\n",
       "        vertical-align: middle;\n",
       "    }\n",
       "\n",
       "    .dataframe tbody tr th {\n",
       "        vertical-align: top;\n",
       "    }\n",
       "\n",
       "    .dataframe thead th {\n",
       "        text-align: right;\n",
       "    }\n",
       "</style>\n",
       "<table border=\"1\" class=\"dataframe\">\n",
       "  <thead>\n",
       "    <tr style=\"text-align: right;\">\n",
       "      <th></th>\n",
       "      <th>person_id</th>\n",
       "    </tr>\n",
       "    <tr>\n",
       "      <th>gender_concept_name</th>\n",
       "      <th></th>\n",
       "    </tr>\n",
       "  </thead>\n",
       "  <tbody>\n",
       "    <tr>\n",
       "      <th>FEMALE</th>\n",
       "      <td>14025</td>\n",
       "    </tr>\n",
       "    <tr>\n",
       "      <th>MALE</th>\n",
       "      <td>15592</td>\n",
       "    </tr>\n",
       "    <tr>\n",
       "      <th>No matching concept</th>\n",
       "      <td>2</td>\n",
       "    </tr>\n",
       "  </tbody>\n",
       "</table>\n",
       "</div>"
      ],
      "text/plain": [
       "                     person_id\n",
       "gender_concept_name           \n",
       "FEMALE                   14025\n",
       "MALE                     15592\n",
       "No matching concept          2"
      ]
     },
     "execution_count": 41,
     "metadata": {},
     "output_type": "execute_result"
    }
   ],
   "source": [
    "ped_cohort[['person_id', 'gender_concept_name']].groupby(['gender_concept_name']).count()"
   ]
  },
  {
   "cell_type": "code",
   "execution_count": 48,
   "metadata": {},
   "outputs": [
    {
     "data": {
      "text/html": [
       "<div>\n",
       "<style scoped>\n",
       "    .dataframe tbody tr th:only-of-type {\n",
       "        vertical-align: middle;\n",
       "    }\n",
       "\n",
       "    .dataframe tbody tr th {\n",
       "        vertical-align: top;\n",
       "    }\n",
       "\n",
       "    .dataframe thead th {\n",
       "        text-align: right;\n",
       "    }\n",
       "</style>\n",
       "<table border=\"1\" class=\"dataframe\">\n",
       "  <thead>\n",
       "    <tr style=\"text-align: right;\">\n",
       "      <th></th>\n",
       "      <th>person_id</th>\n",
       "      <th>age_days</th>\n",
       "    </tr>\n",
       "  </thead>\n",
       "  <tbody>\n",
       "    <tr>\n",
       "      <th>511</th>\n",
       "      <td>30045358</td>\n",
       "      <td>5</td>\n",
       "    </tr>\n",
       "    <tr>\n",
       "      <th>512</th>\n",
       "      <td>30045395</td>\n",
       "      <td>1</td>\n",
       "    </tr>\n",
       "    <tr>\n",
       "      <th>639</th>\n",
       "      <td>30074819</td>\n",
       "      <td>5</td>\n",
       "    </tr>\n",
       "    <tr>\n",
       "      <th>659</th>\n",
       "      <td>30075744</td>\n",
       "      <td>3</td>\n",
       "    </tr>\n",
       "    <tr>\n",
       "      <th>1502</th>\n",
       "      <td>30285573</td>\n",
       "      <td>12</td>\n",
       "    </tr>\n",
       "    <tr>\n",
       "      <th>...</th>\n",
       "      <td>...</td>\n",
       "      <td>...</td>\n",
       "    </tr>\n",
       "    <tr>\n",
       "      <th>232266</th>\n",
       "      <td>80977196</td>\n",
       "      <td>4</td>\n",
       "    </tr>\n",
       "    <tr>\n",
       "      <th>232267</th>\n",
       "      <td>80977204</td>\n",
       "      <td>4</td>\n",
       "    </tr>\n",
       "    <tr>\n",
       "      <th>232276</th>\n",
       "      <td>85696704</td>\n",
       "      <td>3</td>\n",
       "    </tr>\n",
       "    <tr>\n",
       "      <th>232283</th>\n",
       "      <td>85697959</td>\n",
       "      <td>17</td>\n",
       "    </tr>\n",
       "    <tr>\n",
       "      <th>232288</th>\n",
       "      <td>86285072</td>\n",
       "      <td>14</td>\n",
       "    </tr>\n",
       "  </tbody>\n",
       "</table>\n",
       "<p>3183 rows × 2 columns</p>\n",
       "</div>"
      ],
      "text/plain": [
       "        person_id  age_days\n",
       "511      30045358         5\n",
       "512      30045395         1\n",
       "639      30074819         5\n",
       "659      30075744         3\n",
       "1502     30285573        12\n",
       "...           ...       ...\n",
       "232266   80977196         4\n",
       "232267   80977204         4\n",
       "232276   85696704         3\n",
       "232283   85697959        17\n",
       "232288   86285072        14\n",
       "\n",
       "[3183 rows x 2 columns]"
      ]
     },
     "execution_count": 48,
     "metadata": {},
     "output_type": "execute_result"
    }
   ],
   "source": [
    "# ped_cohort[['person_id', 'pediatric_age_group']].groupby(['pediatric_age_group']).count()\n",
    "ped_cohort.query('pediatric_age_group==\"term neonatal\"')[['person_id', 'age_days']]"
   ]
  },
  {
   "cell_type": "code",
   "execution_count": 49,
   "metadata": {},
   "outputs": [
    {
     "data": {
      "text/html": [
       "<div>\n",
       "<style scoped>\n",
       "    .dataframe tbody tr th:only-of-type {\n",
       "        vertical-align: middle;\n",
       "    }\n",
       "\n",
       "    .dataframe tbody tr th {\n",
       "        vertical-align: top;\n",
       "    }\n",
       "\n",
       "    .dataframe thead th {\n",
       "        text-align: right;\n",
       "    }\n",
       "</style>\n",
       "<table border=\"1\" class=\"dataframe\">\n",
       "  <thead>\n",
       "    <tr style=\"text-align: right;\">\n",
       "      <th></th>\n",
       "      <th>person_id</th>\n",
       "    </tr>\n",
       "    <tr>\n",
       "      <th>pediatric_age_group</th>\n",
       "      <th></th>\n",
       "    </tr>\n",
       "  </thead>\n",
       "  <tbody>\n",
       "    <tr>\n",
       "      <th>early adolescence</th>\n",
       "      <td>10656</td>\n",
       "    </tr>\n",
       "    <tr>\n",
       "      <th>early childhood</th>\n",
       "      <td>4017</td>\n",
       "    </tr>\n",
       "    <tr>\n",
       "      <th>infancy</th>\n",
       "      <td>4660</td>\n",
       "    </tr>\n",
       "    <tr>\n",
       "      <th>late adolescence</th>\n",
       "      <td>6201</td>\n",
       "    </tr>\n",
       "    <tr>\n",
       "      <th>middle childhood</th>\n",
       "      <td>5802</td>\n",
       "    </tr>\n",
       "    <tr>\n",
       "      <th>non-pediatric</th>\n",
       "      <td>237605</td>\n",
       "    </tr>\n",
       "    <tr>\n",
       "      <th>toddler</th>\n",
       "      <td>2302</td>\n",
       "    </tr>\n",
       "    <tr>\n",
       "      <th>unknown</th>\n",
       "      <td>4</td>\n",
       "    </tr>\n",
       "  </tbody>\n",
       "</table>\n",
       "</div>"
      ],
      "text/plain": [
       "                     person_id\n",
       "pediatric_age_group           \n",
       "early adolescence        10656\n",
       "early childhood           4017\n",
       "infancy                   4660\n",
       "late adolescence          6201\n",
       "middle childhood          5802\n",
       "non-pediatric           237605\n",
       "toddler                   2302\n",
       "unknown                      4"
      ]
     },
     "execution_count": 49,
     "metadata": {},
     "output_type": "execute_result"
    }
   ],
   "source": [
    "cohort_df = cohort.query('pediatric_age_group!=\"term neonatal\"')\n",
    "cohort_df[['person_id', 'pediatric_age_group']].groupby(['pediatric_age_group']).count()"
   ]
  },
  {
   "cell_type": "code",
   "execution_count": 21,
   "metadata": {},
   "outputs": [
    {
     "data": {
      "text/html": [
       "<div>\n",
       "<style scoped>\n",
       "    .dataframe tbody tr th:only-of-type {\n",
       "        vertical-align: middle;\n",
       "    }\n",
       "\n",
       "    .dataframe tbody tr th {\n",
       "        vertical-align: top;\n",
       "    }\n",
       "\n",
       "    .dataframe thead th {\n",
       "        text-align: right;\n",
       "    }\n",
       "</style>\n",
       "<table border=\"1\" class=\"dataframe\">\n",
       "  <thead>\n",
       "    <tr style=\"text-align: right;\">\n",
       "      <th></th>\n",
       "      <th>person_id</th>\n",
       "    </tr>\n",
       "    <tr>\n",
       "      <th>race_eth_raw</th>\n",
       "      <th></th>\n",
       "    </tr>\n",
       "  </thead>\n",
       "  <tbody>\n",
       "    <tr>\n",
       "      <th>American Indian or Alaska Native</th>\n",
       "      <td>714</td>\n",
       "    </tr>\n",
       "    <tr>\n",
       "      <th>Asian</th>\n",
       "      <td>44324</td>\n",
       "    </tr>\n",
       "    <tr>\n",
       "      <th>Black or African American</th>\n",
       "      <td>10215</td>\n",
       "    </tr>\n",
       "    <tr>\n",
       "      <th>Hispanic or Latino</th>\n",
       "      <td>54334</td>\n",
       "    </tr>\n",
       "    <tr>\n",
       "      <th>Native Hawaiian or Other Pacific Islander</th>\n",
       "      <td>3191</td>\n",
       "    </tr>\n",
       "    <tr>\n",
       "      <th>Other</th>\n",
       "      <td>25158</td>\n",
       "    </tr>\n",
       "    <tr>\n",
       "      <th>White</th>\n",
       "      <td>136494</td>\n",
       "    </tr>\n",
       "  </tbody>\n",
       "</table>\n",
       "</div>"
      ],
      "text/plain": [
       "                                           person_id\n",
       "race_eth_raw                                        \n",
       "American Indian or Alaska Native                 714\n",
       "Asian                                          44324\n",
       "Black or African American                      10215\n",
       "Hispanic or Latino                             54334\n",
       "Native Hawaiian or Other Pacific Islander       3191\n",
       "Other                                          25158\n",
       "White                                         136494"
      ]
     },
     "execution_count": 21,
     "metadata": {},
     "output_type": "execute_result"
    }
   ],
   "source": [
    "cohort[['person_id', 'race_eth_raw']].groupby(['race_eth_raw']).count()"
   ]
  },
  {
   "cell_type": "code",
   "execution_count": null,
   "metadata": {},
   "outputs": [],
   "source": [
    "# Check list of newborn ids and crosscheck with clmbr train ids"
   ]
  }
 ],
 "metadata": {
  "kernelspec": {
   "display_name": "conl",
   "language": "python",
   "name": "conl"
  },
  "language_info": {
   "codemirror_mode": {
    "name": "ipython",
    "version": 3
   },
   "file_extension": ".py",
   "mimetype": "text/x-python",
   "name": "python",
   "nbconvert_exporter": "python",
   "pygments_lexer": "ipython3",
   "version": "3.9.10"
  }
 },
 "nbformat": 4,
 "nbformat_minor": 2
}
