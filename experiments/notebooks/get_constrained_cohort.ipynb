{
 "cells": [
  {
   "cell_type": "code",
   "execution_count": 1,
   "metadata": {},
   "outputs": [],
   "source": [
    "import os\n",
    "import pandas as pd"
   ]
  },
  {
   "cell_type": "code",
   "execution_count": 2,
   "metadata": {},
   "outputs": [],
   "source": [
    "cohort_path = \"/local-scratch/nigam/projects/jlemmon/transfer_learning/experiments/data/\"\n",
    "tasks = ['hospital_mortality','sepsis','LOS_7','readmission_30','hyperkalemia_lab_mild_label','hyperkalemia_lab_moderate_label','hyperkalemia_lab_severe_label','hyperkalemia_lab_abnormal_label','hypoglycemia_lab_mild_label','hypoglycemia_lab_moderate_label','hypoglycemia_lab_severe_label','hypoglycemia_lab_abnormal_label','neutropenia_lab_mild_label','neutropenia_lab_moderate_label','neutropenia_lab_severe_label','hyponatremia_lab_mild_label','hyponatremia_lab_moderate_label','hyponatremia_lab_severe_label','hyponatremia_lab_abnormal_label','aki_lab_aki1_label','aki_lab_aki2_label','aki_lab_aki3_label','aki_lab_abnormal_label','anemia_lab_mild_label','anemia_lab_moderate_label','anemia_lab_severe_label','anemia_lab_abnormal_label','thrombocytopenia_lab_mild_label','thrombocytopenia_lab_moderate_label','thrombocytopenia_lab_severe_label','thrombocytopenia_lab_abnormal_label']\n",
    "random_state=44\n",
    "def read_file(filename, columns=None, **kwargs):\n",
    "    print(filename)\n",
    "    load_extension = os.path.splitext(filename)[-1]\n",
    "    if load_extension == \".parquet\":\n",
    "        return pd.read_parquet(filename, columns=columns,**kwargs)\n",
    "    elif load_extension == \".csv\":\n",
    "        return pd.read_csv(filename, usecols=columns, **kwargs)"
   ]
  },
  {
   "cell_type": "code",
   "execution_count": 3,
   "metadata": {},
   "outputs": [
    {
     "name": "stdout",
     "output_type": "stream",
     "text": [
      "/local-scratch/nigam/projects/jlemmon/transfer_learning/experiments/data/cohort/cohort_split_no_nb.parquet\n"
     ]
    }
   ],
   "source": [
    "cohort = read_file(\n",
    "    os.path.join(\n",
    "        cohort_path,\n",
    "        \"cohort/cohort_split_no_nb.parquet\"\n",
    "    ),\n",
    "    engine='pyarrow'\n",
    ")\n",
    "cohort = cohort.query('pediatric_age_group!=\"term neonatal\"')"
   ]
  },
  {
   "cell_type": "code",
   "execution_count": 4,
   "metadata": {},
   "outputs": [],
   "source": [
    "seed = 345"
   ]
  },
  {
   "cell_type": "code",
   "execution_count": 5,
   "metadata": {},
   "outputs": [],
   "source": [
    "cohort['constrain'] = 0"
   ]
  },
  {
   "cell_type": "code",
   "execution_count": 6,
   "metadata": {},
   "outputs": [],
   "source": [
    "ped_cohort = cohort.query(\"adult_at_admission==0\")"
   ]
  },
  {
   "cell_type": "code",
   "execution_count": 7,
   "metadata": {},
   "outputs": [],
   "source": [
    "tr = ped_cohort.query(\"fold_id=='0'\")\n",
    "v = ped_cohort.query(\"fold_id=='val'\")"
   ]
  },
  {
   "cell_type": "code",
   "execution_count": 9,
   "metadata": {},
   "outputs": [
    {
     "name": "stderr",
     "output_type": "stream",
     "text": [
      "/tmp/ipykernel_2246009/599771163.py:7: SettingWithCopyWarning: \n",
      "A value is trying to be set on a copy of a slice from a DataFrame\n",
      "\n",
      "See the caveats in the documentation: https://pandas.pydata.org/pandas-docs/stable/user_guide/indexing.html#returning-a-view-versus-a-copy\n",
      "  perc_df['constrain'].loc[perc_df['person_id'].isin(tr_pids)] = 1\n",
      "/tmp/ipykernel_2246009/599771163.py:8: SettingWithCopyWarning: \n",
      "A value is trying to be set on a copy of a slice from a DataFrame\n",
      "\n",
      "See the caveats in the documentation: https://pandas.pydata.org/pandas-docs/stable/user_guide/indexing.html#returning-a-view-versus-a-copy\n",
      "  perc_df['constrain'].loc[perc_df['person_id'].isin(v_pids)] = 1\n"
     ]
    }
   ],
   "source": [
    "for percent in list(range(5,100,5)):\n",
    "    tr_df = tr.sample(frac=percent/100.0, random_state=seed)\n",
    "    tr_pids = tr_df['person_id'].values\n",
    "    v_df = v.sample(frac=percent/100.0, random_state=seed)\n",
    "    v_pids = v_df['person_id'].values\n",
    "    perc_df = cohort.copy()\n",
    "    perc_df['constrain'].loc[perc_df['person_id'].isin(tr_pids)] = 1\n",
    "    perc_df['constrain'].loc[perc_df['person_id'].isin(v_pids)] = 1\n",
    "\n",
    "    perc_df.to_parquet(\n",
    "        f\"/local-scratch/nigam/projects/jlemmon/transfer_learning/experiments/data/cohort/cohort_split_no_nb_constrain_{percent}.parquet\",\n",
    "        engine=\"pyarrow\",\n",
    "    )"
   ]
  },
  {
   "cell_type": "code",
   "execution_count": null,
   "metadata": {},
   "outputs": [],
   "source": []
  }
 ],
 "metadata": {
  "kernelspec": {
   "display_name": "conl",
   "language": "python",
   "name": "conl"
  },
  "language_info": {
   "codemirror_mode": {
    "name": "ipython",
    "version": 3
   },
   "file_extension": ".py",
   "mimetype": "text/x-python",
   "name": "python",
   "nbconvert_exporter": "python",
   "pygments_lexer": "ipython3",
   "version": "3.9.10"
  }
 },
 "nbformat": 4,
 "nbformat_minor": 2
}
